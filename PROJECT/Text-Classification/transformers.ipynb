{
 "cells": [
  {
   "cell_type": "code",
   "execution_count": 14,
   "metadata": {},
   "outputs": [],
   "source": [
    "import torch\n",
    "from torchtext.datasets import AG_NEWS\n",
    "from torchtext.data.utils import get_tokenizer\n",
    "from torchtext.vocab import build_vocab_from_iterator\n",
    "from torch.utils.data import DataLoader\n",
    "from torch.utils.data.dataset import random_split\n",
    "from torchtext.data.functional import to_map_style_dataset\n",
    "\n",
    "device = torch.device(\"cuda\" if torch.cuda.is_available() else \"cpu\")\n",
    "from torch import nn\n",
    "from torchsummary import summary\n",
    "\n",
    "train_iter = iter(AG_NEWS(split=\"train\"))"
   ]
  },
  {
   "cell_type": "code",
   "execution_count": 15,
   "metadata": {},
   "outputs": [
    {
     "data": {
      "text/plain": [
       "(3,\n",
       " \"Wall St. Bears Claw Back Into the Black (Reuters) Reuters - Short-sellers, Wall Street's dwindling\\\\band of ultra-cynics, are seeing green again.\")"
      ]
     },
     "execution_count": 15,
     "metadata": {},
     "output_type": "execute_result"
    }
   ],
   "source": [
    "next(train_iter)"
   ]
  },
  {
   "cell_type": "markdown",
   "metadata": {},
   "source": [
    "## Prepare data processing pipelines"
   ]
  },
  {
   "cell_type": "code",
   "execution_count": 16,
   "metadata": {},
   "outputs": [
    {
     "data": {
      "text/plain": [
       "<function __main__.<lambda>(x)>"
      ]
     },
     "execution_count": 16,
     "metadata": {},
     "output_type": "execute_result"
    }
   ],
   "source": [
    "tokenizer = get_tokenizer(\"basic_english\")\n",
    "train_iter = AG_NEWS(split=\"train\")\n",
    "\n",
    "def yield_tokens(data_iter):\n",
    "    for _, text in data_iter:\n",
    "        yield tokenizer(text)\n",
    "\n",
    "\n",
    "vocab = build_vocab_from_iterator(yield_tokens(train_iter), specials=[\"<unk>\"])\n",
    "vocab.set_default_index(vocab[\"<unk>\"])\n",
    "\n",
    "text_pipeline = lambda x: vocab(tokenizer(x))\n",
    "label_pipeline = lambda x: int(x) - 1\n",
    "label_pipeline"
   ]
  },
  {
   "cell_type": "code",
   "execution_count": 17,
   "metadata": {},
   "outputs": [
    {
     "data": {
      "text/plain": [
       "[475, 21, 30, 5297]"
      ]
     },
     "execution_count": 17,
     "metadata": {},
     "output_type": "execute_result"
    }
   ],
   "source": [
    "vocab(['here', 'is', 'an', 'example'])"
   ]
  },
  {
   "cell_type": "markdown",
   "metadata": {},
   "source": [
    "## Generate data batch and iterator"
   ]
  },
  {
   "cell_type": "code",
   "execution_count": 18,
   "metadata": {},
   "outputs": [],
   "source": [
    "BATCH_SIZE = 128\n",
    "\n",
    "def collate_batch(batch):\n",
    "    label_list, text_list, offsets = [], [], [0]\n",
    "    for _label, _text in batch:\n",
    "        label_list.append(label_pipeline(_label))\n",
    "        processed_text = torch.tensor(text_pipeline(_text), dtype=torch.int64)\n",
    "        text_list.append(processed_text)\n",
    "        offsets.append(processed_text.size(0))\n",
    "    label_list = torch.tensor(label_list, dtype=torch.int64)\n",
    "    offsets = torch.tensor(offsets[:-1]).cumsum(dim=0)\n",
    "    text_list = torch.cat(text_list)\n",
    "    return label_list.to(device), text_list.to(device), offsets.to(device)\n",
    "\n",
    "train_iter, test_iter = AG_NEWS()\n",
    "train_dataset = to_map_style_dataset(train_iter)\n",
    "test_dataset = to_map_style_dataset(test_iter)\n",
    "\n",
    "num_train = int(len(train_dataset) * 0.95)\n",
    "split_train_, split_valid_ = random_split(\n",
    "    train_dataset, [num_train, len(train_dataset) - num_train]\n",
    ")\n",
    "\n",
    "train_dataloader = DataLoader(\n",
    "    split_train_, batch_size=BATCH_SIZE, shuffle=True, collate_fn=collate_batch\n",
    ")\n",
    "valid_dataloader = DataLoader(\n",
    "    split_valid_, batch_size=BATCH_SIZE, shuffle=True, collate_fn=collate_batch\n",
    ")\n",
    "test_dataloader = DataLoader(\n",
    "    test_dataset, batch_size=BATCH_SIZE, shuffle=True, collate_fn=collate_batch\n",
    ")\n",
    "\n",
    "num_class = len(set([label for (label, text) in train_iter]))\n",
    "vocab_size = len(vocab)\n",
    "\n",
    "max_lenght = max([len(tokenizer(text)) for (label, text) in train_iter])\n"
   ]
  },
  {
   "cell_type": "code",
   "execution_count": 19,
   "metadata": {},
   "outputs": [
    {
     "name": "stdout",
     "output_type": "stream",
     "text": [
      "Max lenght: 207\n"
     ]
    }
   ],
   "source": [
    "print(f'Max lenght: {max_lenght}')\n",
    "embed_dim = 8"
   ]
  },
  {
   "cell_type": "markdown",
   "metadata": {},
   "source": [
    "## Define Model "
   ]
  },
  {
   "cell_type": "code",
   "execution_count": 20,
   "metadata": {},
   "outputs": [
    {
     "name": "stdout",
     "output_type": "stream",
     "text": [
      "torch.Size([207, 8])\n",
      "torch.Size([207, 1])\n",
      "torch.Size([207, 1, 8])\n"
     ]
    }
   ],
   "source": [
    "pe = torch.zeros(max_lenght, embed_dim)\n",
    "print(pe.shape)\n",
    "position = torch.arange(0, max_lenght, dtype=torch.float).unsqueeze(1)\n",
    "print(position.shape)\n",
    "div_term = torch.exp(torch.arange(0, embed_dim, 2).float() * (-torch.log(torch.tensor(10000.0)) / embed_dim))\n",
    "pe[:, 0::2] = torch.sin(position * div_term)\n",
    "pe[:, 1::2] = torch.cos(position * div_term)\n",
    "pe = pe.unsqueeze(0).transpose(0, 1)\n",
    "print(pe.shape)"
   ]
  },
  {
   "cell_type": "code",
   "execution_count": 21,
   "metadata": {},
   "outputs": [],
   "source": [
    "# Define the model class\n",
    "class TextClassificationModel(nn.Module):\n",
    "    def __init__(self, vocab_size, embed_dim, num_class, max_len):\n",
    "        super(TextClassificationModel, self).__init__()\n",
    "        self.embedding = nn.EmbeddingBag(vocab_size, embed_dim, sparse=False)\n",
    "\n",
    "        self.transformer_layer_1 = nn.TransformerEncoderLayer(d_model=embed_dim, nhead= 4)\n",
    "        self.fc = nn.Linear(embed_dim , num_class)\n",
    "\n",
    "        self.init_weights()\n",
    "\n",
    "    def init_weights(self):\n",
    "        initrange = 0.5\n",
    "        self.embedding.weight.data.uniform_(-initrange, initrange)\n",
    "        self.fc.weight.data.uniform_(-initrange, initrange)\n",
    "        self.fc.bias.data.zero_()\n",
    "\n",
    "    def forward(self, text, offsets):\n",
    "        embedded = self.embedding(text, offsets)\n",
    "\n",
    "        transformer = self.transformer_layer_1(embedded)\n",
    "\n",
    "        output = self.fc(transformer)\n",
    "        return output"
   ]
  },
  {
   "cell_type": "code",
   "execution_count": 22,
   "metadata": {},
   "outputs": [
    {
     "name": "stdout",
     "output_type": "stream",
     "text": [
      "Vocab size: 95811\n",
      "embed_dim : 8\n",
      "num_class: 4\n",
      "max_lenght: 207\n"
     ]
    }
   ],
   "source": [
    "print(f'Vocab size: {vocab_size}')\n",
    "print(f'embed_dim : {embed_dim}')\n",
    "print(f'num_class: {num_class}')\n",
    "print(f'max_lenght: {max_lenght}')"
   ]
  },
  {
   "cell_type": "code",
   "execution_count": 23,
   "metadata": {},
   "outputs": [
    {
     "name": "stdout",
     "output_type": "stream",
     "text": [
      "Text:  torch.Size([5491])\n",
      "Offset:  torch.Size([128])\n"
     ]
    }
   ],
   "source": [
    "embed_dim = 512\n",
    "model = TextClassificationModel(vocab_size, embed_dim, num_class,max_len = max_lenght).to(device)\n",
    "for idx, (label, text, offsets) in enumerate(train_dataloader):\n",
    "    print(f'Text:  {text.shape}')\n",
    "    print(f'Offset:  {offsets.shape}')\n",
    "    output = model.embedding(text,offsets)\n",
    "    break"
   ]
  },
  {
   "cell_type": "markdown",
   "metadata": {},
   "source": [
    "#### Test Embedding Layer"
   ]
  },
  {
   "cell_type": "markdown",
   "metadata": {},
   "source": [
    "#### Parameter Counting|"
   ]
  },
  {
   "cell_type": "code",
   "execution_count": 24,
   "metadata": {},
   "outputs": [
    {
     "name": "stdout",
     "output_type": "stream",
     "text": [
      "Total parameters: 52209668\n",
      "Trainable parameters: 52209668\n"
     ]
    }
   ],
   "source": [
    "#print(model)\n",
    "def count_parameters(model):\n",
    "    total_params = 0\n",
    "    trainable_params = 0\n",
    "    for param in model.parameters():\n",
    "        total_params += param.numel()\n",
    "        if param.requires_grad:\n",
    "            trainable_params += param.numel()\n",
    "    return total_params, trainable_params\n",
    "\n",
    "total_params, trainable_params = count_parameters(model)\n",
    "print(f\"Total parameters: {total_params}\")\n",
    "print(f\"Trainable parameters: {trainable_params}\")"
   ]
  },
  {
   "cell_type": "markdown",
   "metadata": {},
   "source": [
    "## Define functions to train the model and evaluate results"
   ]
  },
  {
   "cell_type": "code",
   "execution_count": 25,
   "metadata": {},
   "outputs": [],
   "source": [
    "import time\n",
    "# Hyperparameters\n",
    "EPOCHS = 20  # epoch\n",
    "LR = 0.01 # learning rate\n",
    "\n",
    "criterion = torch.nn.CrossEntropyLoss()\n",
    "optimizer = torch.optim.Adam(model.parameters(), lr=LR)\n",
    "scheduler = torch.optim.lr_scheduler.StepLR(optimizer, 1.0, gamma=0.1)\n",
    "total_train_acc = []\n",
    "total_evaluate_acc = []\n",
    "\n",
    "def train(dataloader):\n",
    "    model.train()\n",
    "    total_acc, total_count, total_loss = 0, 0,0\n",
    "    log_interval = 500\n",
    "    start_time = time.time()\n",
    "\n",
    "    for idx, (label, text, offsets) in enumerate(dataloader):\n",
    "        optimizer.zero_grad()\n",
    "        predicted_label = model(text, offsets)\n",
    "        loss = criterion(predicted_label, label)\n",
    "        total_loss += loss.item() * label.size(0)\n",
    "        loss.backward()\n",
    "        torch.nn.utils.clip_grad_norm_(model.parameters(), 0.1)\n",
    "        optimizer.step()\n",
    "        total_acc += (predicted_label.argmax(1) == label).sum().item()\n",
    "        total_count += label.size(0)\n",
    "        if idx % log_interval == 0 and idx > 0:\n",
    "            elapsed = time.time() - start_time\n",
    "            print(\n",
    "                \"| epoch {:3d} | {:5d}/{:5d} batches \"\n",
    "                \"| accuracy {:8.3f}\".format(\n",
    "                    epoch, idx, len(dataloader), total_acc / total_count\n",
    "                )\n",
    "            )\n",
    "            total_acc, total_count = 0, 0\n",
    "            start_time = time.time()\n",
    "\n",
    "    return total_acc / total_count, total_loss / total_count\n",
    "\n",
    "def evaluate(dataloader):\n",
    "    model.eval()\n",
    "    total_acc, total_count,total_loss = 0, 0, 0\n",
    "\n",
    "    with torch.no_grad():\n",
    "        for idx, (label, text, offsets) in enumerate(dataloader):\n",
    "            predicted_label = model(text, offsets)\n",
    "            loss = criterion(predicted_label, label)\n",
    "            total_loss += loss.item() * label.size(0)\n",
    "            total_acc += (predicted_label.argmax(1) == label).sum().item()\n",
    "            total_count += label.size(0)\n",
    "    return total_acc / total_count , total_loss / total_count"
   ]
  },
  {
   "cell_type": "markdown",
   "metadata": {},
   "source": [
    "## Split the dataset and run the model"
   ]
  },
  {
   "cell_type": "code",
   "execution_count": 26,
   "metadata": {},
   "outputs": [
    {
     "name": "stdout",
     "output_type": "stream",
     "text": [
      "| epoch   1 |   500/  891 batches | accuracy    0.617\n",
      "-----------------------------------------------------------\n",
      "| end of epoch   1 | time: 24.06s | valid accuracy    0.831 \n",
      "-----------------------------------------------------------\n",
      "| epoch   2 |   500/  891 batches | accuracy    0.835\n",
      "-----------------------------------------------------------\n",
      "| end of epoch   2 | time: 23.67s | valid accuracy    0.845 \n",
      "-----------------------------------------------------------\n",
      "| epoch   3 |   500/  891 batches | accuracy    0.837\n",
      "-----------------------------------------------------------\n",
      "| end of epoch   3 | time: 23.87s | valid accuracy    0.852 \n",
      "-----------------------------------------------------------\n",
      "| epoch   4 |   500/  891 batches | accuracy    0.849\n",
      "-----------------------------------------------------------\n",
      "| end of epoch   4 | time: 23.78s | valid accuracy    0.856 \n",
      "-----------------------------------------------------------\n",
      "| epoch   5 |   500/  891 batches | accuracy    0.846\n",
      "-----------------------------------------------------------\n",
      "| end of epoch   5 | time: 23.68s | valid accuracy    0.850 \n",
      "-----------------------------------------------------------\n",
      "| epoch   6 |   500/  891 batches | accuracy    0.846\n",
      "-----------------------------------------------------------\n",
      "| end of epoch   6 | time: 23.81s | valid accuracy    0.861 \n",
      "-----------------------------------------------------------\n",
      "| epoch   7 |   500/  891 batches | accuracy    0.855\n",
      "-----------------------------------------------------------\n",
      "| end of epoch   7 | time: 23.79s | valid accuracy    0.861 \n",
      "-----------------------------------------------------------\n",
      "| epoch   8 |   500/  891 batches | accuracy    0.857\n",
      "-----------------------------------------------------------\n",
      "| end of epoch   8 | time: 23.83s | valid accuracy    0.865 \n",
      "-----------------------------------------------------------\n",
      "| epoch   9 |   500/  891 batches | accuracy    0.862\n",
      "-----------------------------------------------------------\n",
      "| end of epoch   9 | time: 23.75s | valid accuracy    0.868 \n",
      "-----------------------------------------------------------\n",
      "| epoch  10 |   500/  891 batches | accuracy    0.866\n",
      "-----------------------------------------------------------\n",
      "| end of epoch  10 | time: 23.60s | valid accuracy    0.868 \n",
      "-----------------------------------------------------------\n",
      "| epoch  11 |   500/  891 batches | accuracy    0.868\n",
      "-----------------------------------------------------------\n",
      "| end of epoch  11 | time: 23.55s | valid accuracy    0.872 \n",
      "-----------------------------------------------------------\n",
      "| epoch  12 |   500/  891 batches | accuracy    0.871\n",
      "-----------------------------------------------------------\n",
      "| end of epoch  12 | time: 23.60s | valid accuracy    0.873 \n",
      "-----------------------------------------------------------\n",
      "| epoch  13 |   500/  891 batches | accuracy    0.873\n",
      "-----------------------------------------------------------\n",
      "| end of epoch  13 | time: 23.63s | valid accuracy    0.875 \n",
      "-----------------------------------------------------------\n",
      "| epoch  14 |   500/  891 batches | accuracy    0.875\n",
      "-----------------------------------------------------------\n",
      "| end of epoch  14 | time: 23.60s | valid accuracy    0.876 \n",
      "-----------------------------------------------------------\n",
      "| epoch  15 |   500/  891 batches | accuracy    0.877\n",
      "-----------------------------------------------------------\n",
      "| end of epoch  15 | time: 23.65s | valid accuracy    0.875 \n",
      "-----------------------------------------------------------\n",
      "| epoch  16 |   500/  891 batches | accuracy    0.878\n",
      "-----------------------------------------------------------\n",
      "| end of epoch  16 | time: 23.83s | valid accuracy    0.876 \n",
      "-----------------------------------------------------------\n",
      "| epoch  17 |   500/  891 batches | accuracy    0.878\n",
      "-----------------------------------------------------------\n",
      "| end of epoch  17 | time: 23.81s | valid accuracy    0.874 \n",
      "-----------------------------------------------------------\n",
      "| epoch  18 |   500/  891 batches | accuracy    0.878\n",
      "-----------------------------------------------------------\n",
      "| end of epoch  18 | time: 23.33s | valid accuracy    0.876 \n",
      "-----------------------------------------------------------\n",
      "| epoch  19 |   500/  891 batches | accuracy    0.878\n",
      "-----------------------------------------------------------\n",
      "| end of epoch  19 | time: 22.95s | valid accuracy    0.877 \n",
      "-----------------------------------------------------------\n",
      "| epoch  20 |   500/  891 batches | accuracy    0.878\n",
      "-----------------------------------------------------------\n",
      "| end of epoch  20 | time: 23.43s | valid accuracy    0.875 \n",
      "-----------------------------------------------------------\n"
     ]
    }
   ],
   "source": [
    "total_accu = None\n",
    "total_train_acc = []\n",
    "total_evaluate_acc = []\n",
    "\n",
    "train_losses=[]\n",
    "val_losses=[]\n",
    "\n",
    "for epoch in range(1, EPOCHS + 1):\n",
    "    epoch_start_time = time.time()\n",
    "    accu_train, train_loss = train(train_dataloader)\n",
    "    accu_val, val_loss = evaluate(valid_dataloader)\n",
    "    # Append \n",
    "    total_train_acc.append(accu_train); train_losses.append(train_loss)\n",
    "    total_evaluate_acc.append(accu_val);val_losses.append(val_loss)\n",
    "    if total_accu is not None and total_accu > accu_val:\n",
    "        scheduler.step()\n",
    "    else:\n",
    "        total_accu = accu_val\n",
    "    print(\"-\" * 59)\n",
    "    print(\n",
    "        \"| end of epoch {:3d} | time: {:5.2f}s | \"\n",
    "        \"valid accuracy {:8.3f} \".format(\n",
    "            epoch, time.time() - epoch_start_time, accu_val\n",
    "        )\n",
    "    )\n",
    "    print(\"-\" * 59)"
   ]
  },
  {
   "cell_type": "markdown",
   "metadata": {},
   "source": [
    "## Plot Training Process and Evaluation Process"
   ]
  },
  {
   "cell_type": "code",
   "execution_count": 31,
   "metadata": {},
   "outputs": [
    {
     "data": {
      "image/png": "[encoded data removed]",
      "text/plain": [
       "<Figure size 640x480 with 1 Axes>"
      ]
     },
     "metadata": {},
     "output_type": "display_data"
    },
    {
     "data": {
      "image/png": "[encoded data removed]",
      "text/plain": [
       "<Figure size 640x480 with 1 Axes>"
      ]
     },
     "metadata": {},
     "output_type": "display_data"
    },
    {
     "data": {
      "image/png": "[encoded data removed]",
      "text/plain": [
       "<Figure size 640x480 with 1 Axes>"
      ]
     },
     "metadata": {},
     "output_type": "display_data"
    }
   ],
   "source": [
    "import matplotlib.pyplot as plt\n",
    "\n",
    "plt.plot(total_train_acc)\n",
    "plt.title('Biểu đồ từ một danh sách')\n",
    "plt.xlabel('Epochs')\n",
    "plt.ylabel('Training Accuracy')\n",
    "plt.show()\n",
    "\n",
    "plt.plot(total_evaluate_acc)\n",
    "plt.title('Biểu đồ từ một danh sách')\n",
    "plt.xlabel('Epochs')\n",
    "plt.ylabel('Validation Accuracy')\n",
    "plt.show()\n",
    "\n",
    "plt.plot(train_losses)\n",
    "plt.title('Biểu đồ từ một danh sách')\n",
    "plt.xlabel('Epochs')\n",
    "plt.ylabel('Training Loss')\n",
    "plt.show()"
   ]
  },
  {
   "cell_type": "code",
   "execution_count": 32,
   "metadata": {},
   "outputs": [
    {
     "name": "stdout",
     "output_type": "stream",
     "text": [
      "0.9112305914147144\n"
     ]
    }
   ],
   "source": [
    "print(min(train_losses))"
   ]
  },
  {
   "cell_type": "markdown",
   "metadata": {},
   "source": [
    "## Evaluate the model with test dataset"
   ]
  },
  {
   "cell_type": "code",
   "execution_count": 29,
   "metadata": {},
   "outputs": [
    {
     "name": "stdout",
     "output_type": "stream",
     "text": [
      "Checking the results of test dataset.\n",
      "test accuracy    0.871\n"
     ]
    }
   ],
   "source": [
    "print(\"Checking the results of test dataset.\")\n",
    "accu_test, _ = evaluate(test_dataloader)\n",
    "print(\"test accuracy {:8.3f}\".format(accu_test))"
   ]
  },
  {
   "cell_type": "markdown",
   "metadata": {},
   "source": [
    "## Test on Random news"
   ]
  },
  {
   "cell_type": "code",
   "execution_count": 30,
   "metadata": {},
   "outputs": [
    {
     "name": "stdout",
     "output_type": "stream",
     "text": [
      "This is a Sci/Tec news\n"
     ]
    }
   ],
   "source": [
    "ag_news_label = {1: \"World\", 2: \"Sports\", 3: \"Business\", 4: \"Sci/Tec\"}\n",
    "\n",
    "\n",
    "def predict(text, text_pipeline):\n",
    "    with torch.no_grad():\n",
    "        text = torch.tensor(text_pipeline(text))\n",
    "        output = model(text, torch.tensor([0]))\n",
    "        return output.argmax(1).item() + 1\n",
    "\n",
    "\n",
    "ex_text_str = \"I want to play badminton\"\n",
    "\n",
    "model = model.to(\"cpu\")\n",
    "\n",
    "print(\"This is a %s news\" % ag_news_label[predict(ex_text_str, text_pipeline)])"
   ]
  },
  {
   "cell_type": "markdown",
   "metadata": {},
   "source": [
    "#### Save and Load Model "
   ]
  },
  {
   "cell_type": "code",
   "execution_count": null,
   "metadata": {},
   "outputs": [],
   "source": []
  }
 ],
 "metadata": {
  "kernelspec": {
   "display_name": "aio",
   "language": "python",
   "name": "python3"
  },
  "language_info": {
   "codemirror_mode": {
    "name": "ipython",
    "version": 3
   },
   "file_extension": ".py",
   "mimetype": "text/x-python",
   "name": "python",
   "nbconvert_exporter": "python",
   "pygments_lexer": "ipython3",
   "version": "3.10.0"
  }
 },
 "nbformat": 4,
 "nbformat_minor": 2
}
