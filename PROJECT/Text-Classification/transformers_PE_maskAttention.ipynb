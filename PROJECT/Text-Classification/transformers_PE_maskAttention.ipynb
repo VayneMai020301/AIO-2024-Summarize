{
 "cells": [
  {
   "cell_type": "code",
   "execution_count": 1,
   "metadata": {},
   "outputs": [
    {
     "name": "stderr",
     "output_type": "stream",
     "text": [
      "c:\\Users\\manmu\\anaconda3\\envs\\aio\\lib\\site-packages\\torchtext\\datasets\\__init__.py:4: UserWarning: \n",
      "/!\\ IMPORTANT WARNING ABOUT TORCHTEXT STATUS /!\\ \n",
      "Torchtext is deprecated and the last released version will be 0.18 (this one). You can silence this warning by calling the following at the beginnign of your scripts: `import torchtext; torchtext.disable_torchtext_deprecation_warning()`\n",
      "  warnings.warn(torchtext._TORCHTEXT_DEPRECATION_MSG)\n",
      "c:\\Users\\manmu\\anaconda3\\envs\\aio\\lib\\site-packages\\torchtext\\data\\__init__.py:4: UserWarning: \n",
      "/!\\ IMPORTANT WARNING ABOUT TORCHTEXT STATUS /!\\ \n",
      "Torchtext is deprecated and the last released version will be 0.18 (this one). You can silence this warning by calling the following at the beginnign of your scripts: `import torchtext; torchtext.disable_torchtext_deprecation_warning()`\n",
      "  warnings.warn(torchtext._TORCHTEXT_DEPRECATION_MSG)\n",
      "c:\\Users\\manmu\\anaconda3\\envs\\aio\\lib\\site-packages\\torchtext\\vocab\\__init__.py:4: UserWarning: \n",
      "/!\\ IMPORTANT WARNING ABOUT TORCHTEXT STATUS /!\\ \n",
      "Torchtext is deprecated and the last released version will be 0.18 (this one). You can silence this warning by calling the following at the beginnign of your scripts: `import torchtext; torchtext.disable_torchtext_deprecation_warning()`\n",
      "  warnings.warn(torchtext._TORCHTEXT_DEPRECATION_MSG)\n",
      "c:\\Users\\manmu\\anaconda3\\envs\\aio\\lib\\site-packages\\torchtext\\utils.py:4: UserWarning: \n",
      "/!\\ IMPORTANT WARNING ABOUT TORCHTEXT STATUS /!\\ \n",
      "Torchtext is deprecated and the last released version will be 0.18 (this one). You can silence this warning by calling the following at the beginnign of your scripts: `import torchtext; torchtext.disable_torchtext_deprecation_warning()`\n",
      "  warnings.warn(torchtext._TORCHTEXT_DEPRECATION_MSG)\n"
     ]
    },
    {
     "name": "stdout",
     "output_type": "stream",
     "text": [
      "Device: cuda\n"
     ]
    },
    {
     "name": "stderr",
     "output_type": "stream",
     "text": [
      "c:\\Users\\manmu\\anaconda3\\envs\\aio\\lib\\site-packages\\tqdm\\auto.py:21: TqdmWarning: IProgress not found. Please update jupyter and ipywidgets. See https://ipywidgets.readthedocs.io/en/stable/user_install.html\n",
      "  from .autonotebook import tqdm as notebook_tqdm\n"
     ]
    }
   ],
   "source": [
    "import torch\n",
    "from torchtext.datasets import AG_NEWS\n",
    "from torchtext.data.utils import get_tokenizer\n",
    "from torchtext.vocab import build_vocab_from_iterator\n",
    "from torch.utils.data import DataLoader\n",
    "from torch.utils.data.dataset import random_split\n",
    "from torchtext.data.functional import to_map_style_dataset\n",
    "\n",
    "device = torch.device(\"cuda\" if torch.cuda.is_available() else \"cpu\")\n",
    "print(f'Device: {device}')\n",
    "from torch import nn\n",
    "from torchsummary import summary\n",
    "\n",
    "train_iter = iter(AG_NEWS(split=\"train\"))"
   ]
  },
  {
   "cell_type": "code",
   "execution_count": 2,
   "metadata": {},
   "outputs": [
    {
     "data": {
      "text/plain": [
       "(3,\n",
       " \"Wall St. Bears Claw Back Into the Black (Reuters) Reuters - Short-sellers, Wall Street's dwindling\\\\band of ultra-cynics, are seeing green again.\")"
      ]
     },
     "execution_count": 2,
     "metadata": {},
     "output_type": "execute_result"
    }
   ],
   "source": [
    "next(train_iter)"
   ]
  },
  {
   "cell_type": "markdown",
   "metadata": {},
   "source": [
    "## Prepare data processing pipelines"
   ]
  },
  {
   "cell_type": "code",
   "execution_count": 5,
   "metadata": {},
   "outputs": [
    {
     "data": {
      "text/plain": [
       "<function __main__.<lambda>(x)>"
      ]
     },
     "execution_count": 5,
     "metadata": {},
     "output_type": "execute_result"
    }
   ],
   "source": [
    "tokenizer = get_tokenizer(\"basic_english\")\n",
    "train_iter = AG_NEWS(split=\"train\")\n",
    "\n",
    "def yield_tokens(data_iter):\n",
    "    for _, text in data_iter:\n",
    "        yield tokenizer(text)\n",
    "\n",
    "\n",
    "vocab = build_vocab_from_iterator(yield_tokens(train_iter), specials=[\"<unk>\"])\n",
    "vocab.set_default_index(vocab[\"<unk>\"])\n",
    "\n",
    "text_pipeline = lambda x: vocab(tokenizer(x))\n",
    "label_pipeline = lambda x: int(x) - 1\n",
    "label_pipeline"
   ]
  },
  {
   "cell_type": "code",
   "execution_count": 6,
   "metadata": {},
   "outputs": [
    {
     "data": {
      "text/plain": [
       "[475, 21, 30, 5297]"
      ]
     },
     "execution_count": 6,
     "metadata": {},
     "output_type": "execute_result"
    }
   ],
   "source": [
    "vocab(['here', 'is', 'an', 'example'])"
   ]
  },
  {
   "cell_type": "markdown",
   "metadata": {},
   "source": [
    "## Generate data batch and iterator"
   ]
  },
  {
   "cell_type": "code",
   "execution_count": 7,
   "metadata": {},
   "outputs": [],
   "source": [
    "BATCH_SIZE = 128\n",
    "\n",
    "def collate_batch(batch):\n",
    "    label_list, text_list, offsets = [], [], [0]\n",
    "    for _label, _text in batch:\n",
    "        label_list.append(label_pipeline(_label))\n",
    "        processed_text = torch.tensor(text_pipeline(_text), dtype=torch.int64)\n",
    "        text_list.append(processed_text)\n",
    "        offsets.append(processed_text.size(0))\n",
    "    label_list = torch.tensor(label_list, dtype=torch.int64)\n",
    "    offsets = torch.tensor(offsets[:-1]).cumsum(dim=0)\n",
    "    text_list = torch.cat(text_list)\n",
    "    return label_list.to(device), text_list.to(device), offsets.to(device)\n",
    "\n",
    "train_iter, test_iter = AG_NEWS()\n",
    "train_dataset = to_map_style_dataset(train_iter)\n",
    "test_dataset = to_map_style_dataset(test_iter)\n",
    "\n",
    "num_train = int(len(train_dataset) * 0.95)\n",
    "split_train_, split_valid_ = random_split(\n",
    "    train_dataset, [num_train, len(train_dataset) - num_train]\n",
    ")\n",
    "\n",
    "train_dataloader = DataLoader(\n",
    "    split_train_, batch_size=BATCH_SIZE, shuffle=True, collate_fn=collate_batch\n",
    ")\n",
    "valid_dataloader = DataLoader(\n",
    "    split_valid_, batch_size=BATCH_SIZE, shuffle=True, collate_fn=collate_batch\n",
    ")\n",
    "test_dataloader = DataLoader(\n",
    "    test_dataset, batch_size=BATCH_SIZE, shuffle=True, collate_fn=collate_batch\n",
    ")\n",
    "\n",
    "num_class = len(set([label for (label, text) in train_iter]))\n",
    "vocab_size = len(vocab)\n",
    "\n",
    "max_lenght = max([len(tokenizer(text)) for (label, text) in train_iter])"
   ]
  },
  {
   "cell_type": "code",
   "execution_count": 3,
   "metadata": {},
   "outputs": [
    {
     "ename": "NameError",
     "evalue": "name 'max_lenght' is not defined",
     "output_type": "error",
     "traceback": [
      "\u001b[1;31m---------------------------------------------------------------------------\u001b[0m",
      "\u001b[1;31mNameError\u001b[0m                                 Traceback (most recent call last)",
      "Cell \u001b[1;32mIn[3], line 1\u001b[0m\n\u001b[1;32m----> 1\u001b[0m \u001b[38;5;28mprint\u001b[39m(\u001b[38;5;124mf\u001b[39m\u001b[38;5;124m'\u001b[39m\u001b[38;5;124mMax lenght: \u001b[39m\u001b[38;5;132;01m{\u001b[39;00mmax_lenght\u001b[38;5;132;01m}\u001b[39;00m\u001b[38;5;124m'\u001b[39m)\n\u001b[0;32m      2\u001b[0m embed_dim \u001b[38;5;241m=\u001b[39m \u001b[38;5;241m8\u001b[39m\n",
      "\u001b[1;31mNameError\u001b[0m: name 'max_lenght' is not defined"
     ]
    }
   ],
   "source": [
    "print(f'Max lenght: {max_lenght}')\n",
    "embed_dim = 8"
   ]
  },
  {
   "cell_type": "markdown",
   "metadata": {},
   "source": [
    "## Define Model "
   ]
  },
  {
   "cell_type": "code",
   "execution_count": 7,
   "metadata": {},
   "outputs": [
    {
     "name": "stdout",
     "output_type": "stream",
     "text": [
      "torch.Size([207, 8])\n",
      "torch.Size([207, 1])\n",
      "torch.Size([207, 1, 8])\n"
     ]
    }
   ],
   "source": [
    "pe = torch.zeros(max_lenght, embed_dim)\n",
    "print(pe.shape)\n",
    "position = torch.arange(0, max_lenght, dtype=torch.float).unsqueeze(1)\n",
    "print(position.shape)\n",
    "div_term = torch.exp(torch.arange(0, embed_dim, 2).float() * (-torch.log(torch.tensor(10000.0)) / embed_dim))\n",
    "pe[:, 0::2] = torch.sin(position * div_term)\n",
    "pe[:, 1::2] = torch.cos(position * div_term)\n",
    "pe = pe.unsqueeze(0).transpose(0, 1)\n",
    "print(pe.shape)"
   ]
  },
  {
   "cell_type": "code",
   "execution_count": 2,
   "metadata": {},
   "outputs": [
    {
     "ename": "NameError",
     "evalue": "name 'max_lenght' is not defined",
     "output_type": "error",
     "traceback": [
      "\u001b[1;31m---------------------------------------------------------------------------\u001b[0m",
      "\u001b[1;31mNameError\u001b[0m                                 Traceback (most recent call last)",
      "Cell \u001b[1;32mIn[2], line 30\u001b[0m\n\u001b[0;32m     27\u001b[0m     plt\u001b[38;5;241m.\u001b[39mshow()\n\u001b[0;32m     29\u001b[0m embed_dim \u001b[38;5;241m=\u001b[39m \u001b[38;5;241m512\u001b[39m\n\u001b[1;32m---> 30\u001b[0m max_len \u001b[38;5;241m=\u001b[39m \u001b[43mmax_lenght\u001b[49m\n\u001b[0;32m     31\u001b[0m pos_enc \u001b[38;5;241m=\u001b[39m PositionalEncoding(embed_dim, max_len)\n\u001b[0;32m     33\u001b[0m pe_matrix \u001b[38;5;241m=\u001b[39m pos_enc\u001b[38;5;241m.\u001b[39mpe\u001b[38;5;241m.\u001b[39msqueeze(\u001b[38;5;241m1\u001b[39m)\n",
      "\u001b[1;31mNameError\u001b[0m: name 'max_lenght' is not defined"
     ]
    }
   ],
   "source": [
    "import matplotlib.pyplot as plt\n",
    "import seaborn as sns\n",
    "\n",
    "class PositionalEncoding(nn.Module):\n",
    "    def __init__(self, embed_dim, max_len=5000):\n",
    "        super(PositionalEncoding, self).__init__()\n",
    "        pe = torch.zeros(max_len, embed_dim)\n",
    "        position = torch.arange(0, max_len, dtype=torch.float).unsqueeze(1)\n",
    "        div_term_sin = torch.exp(torch.arange(0, embed_dim, 2).float() * (-torch.log(torch.tensor(10000.0)) / embed_dim))\n",
    "        div_term_cos = torch.exp(torch.arange(1, embed_dim, 2).float() * (-torch.log(torch.tensor(10000.0)) / embed_dim))\n",
    "\n",
    "        pe[:, 0::2] = torch.sin(position * div_term_sin)\n",
    "        pe[:, 1::2] = torch.cos(position * div_term_cos)\n",
    "        pe = pe.unsqueeze(0).transpose(0, 1)\n",
    "        self.register_buffer('pe', pe)\n",
    "\n",
    "    def forward(self, x):\n",
    "        x = x + self.pe[:x.size(0), :]\n",
    "        return x\n",
    "\n",
    "def plot_positional_encoding(pe_matrix, embed_dim, max_len):\n",
    "    plt.figure(figsize=(10, 8))\n",
    "    sns.heatmap(pe_matrix[:, :embed_dim].numpy(), cmap='coolwarm', xticklabels=5, yticklabels=50)\n",
    "    plt.xlabel('Embedding Dimension')\n",
    "    plt.ylabel('Position')\n",
    "    plt.title('Positional Encoding Heatmap')\n",
    "    plt.show()\n",
    "\n",
    "embed_dim = 512\n",
    "max_len = max_lenght\n",
    "pos_enc = PositionalEncoding(embed_dim, max_len)\n",
    "\n",
    "pe_matrix = pos_enc.pe.squeeze(1)\n",
    "\n",
    "plot_positional_encoding(pe_matrix, embed_dim, max_len)"
   ]
  },
  {
   "cell_type": "code",
   "execution_count": 9,
   "metadata": {},
   "outputs": [],
   "source": [
    "def create_attention_masking(inputs):\n",
    "    attention_mask = (inputs == vocab['<pad>']) # Chuyển vị trí padding lên trước\n",
    "    return attention_mask\n",
    "\n",
    "class PositionalEncoding(nn.Module):\n",
    "    def __init__(self, embed_dim, max_len=5000):\n",
    "        super(PositionalEncoding, self).__init__()\n",
    "        pe = torch.zeros(max_len, embed_dim)\n",
    "        position = torch.arange(0, max_len, dtype=torch.float).unsqueeze(1)\n",
    "        div_term_sin  = torch.exp(torch.arange(0, embed_dim, 2).float() * (-torch.log(torch.tensor(10000.0)) / embed_dim))\n",
    "        div_term_cos  = torch.exp(torch.arange(1, embed_dim, 2).float() * (-torch.log(torch.tensor(10000.0)) / embed_dim))\n",
    "\n",
    "        pe[:, 0::2] = torch.sin(position * div_term_sin)\n",
    "        pe[:, 1::2] = torch.cos(position * div_term_cos)\n",
    "        pe = pe.unsqueeze(0).transpose(0, 1)\n",
    "        self.register_buffer('pe', pe)\n",
    "\n",
    "    def forward(self, x):\n",
    "        x = x + self.pe[:x.size(0), :]\n",
    "        return x\n",
    "\n",
    "class TextClassificationModel(nn.Module):\n",
    "    num_heads = 4\n",
    "    ffn_dim = 2048\n",
    "    dropout = 0.1\n",
    "    def __init__(self, vocab_size, embed_dim, num_class, max_len):\n",
    "        super(TextClassificationModel, self).__init__()\n",
    "        self.embedding = nn.EmbeddingBag(vocab_size, embed_dim, sparse=False)\n",
    "\n",
    "        \n",
    "        self.positional_encoding = PositionalEncoding(embed_dim, max_len)\n",
    "\n",
    "        encoder_layer = nn.TransformerEncoderLayer(d_model=embed_dim, \n",
    "                                                   nhead= self.num_heads, \n",
    "                                                   dim_feedforward= self.ffn_dim, \n",
    "                                                   dropout= self.dropout)\n",
    "        \n",
    "        self.transformer_encoder = nn.TransformerEncoder(encoder_layer, num_layers = 1)\n",
    "\n",
    "        self.fc = nn.Linear(embed_dim , num_class)\n",
    "\n",
    "        self.init_weights()\n",
    "\n",
    "    def init_weights(self):\n",
    "        initrange = 0.5\n",
    "        self.embedding.weight.data.uniform_(-initrange, initrange)\n",
    "        self.fc.weight.data.uniform_(-initrange, initrange)\n",
    "        self.fc.bias.data.zero_()\n",
    "\n",
    "    def forward(self, text, offsets):\n",
    "        embedded = self.embedding(text, offsets)\n",
    "\n",
    "        #masking  = (embedded != 0).float()\n",
    "        #embedded =embedded + masking\n",
    "        \n",
    "        embedded = self.positional_encoding(embedded)\n",
    "        transformer = self.transformer_encoder(embedded)\n",
    "\n",
    "        output = self.fc(transformer.mean(dim=0))\n",
    "        return output"
   ]
  },
  {
   "cell_type": "code",
   "execution_count": 10,
   "metadata": {},
   "outputs": [
    {
     "name": "stdout",
     "output_type": "stream",
     "text": [
      "tensor([  357, 20191,    42,  ...,     7,  6237,     1], device='cuda:0')\n",
      "torch.Size([5645])\n",
      "torch.Size([5645])\n"
     ]
    }
   ],
   "source": [
    "vocab['<pad>']\n",
    "for idx, (label, text, offsets) in enumerate(train_dataloader):\n",
    "    print(text)\n",
    "    print(text.shape)\n",
    "    attention_mask = (text == vocab['<pad>'])\n",
    "    print(attention_mask.shape)\n",
    "    break"
   ]
  },
  {
   "cell_type": "code",
   "execution_count": 11,
   "metadata": {},
   "outputs": [
    {
     "name": "stdout",
     "output_type": "stream",
     "text": [
      "Vocab size: 95811\n",
      "embed_dim : 512\n",
      "num_class: 4\n",
      "max_lenght: 207\n"
     ]
    }
   ],
   "source": [
    "print(f'Vocab size: {vocab_size}')\n",
    "print(f'embed_dim : {embed_dim}')\n",
    "print(f'num_class: {num_class}')\n",
    "print(f'max_lenght: {max_lenght}')"
   ]
  },
  {
   "cell_type": "code",
   "execution_count": 12,
   "metadata": {},
   "outputs": [
    {
     "name": "stderr",
     "output_type": "stream",
     "text": [
      "c:\\Users\\manmu\\anaconda3\\envs\\aio\\lib\\site-packages\\torch\\nn\\modules\\transformer.py:306: UserWarning: enable_nested_tensor is True, but self.use_nested_tensor is False because encoder_layer.self_attn.batch_first was not True(use batch_first for better inference performance)\n",
      "  warnings.warn(f\"enable_nested_tensor is True, but self.use_nested_tensor is False because {why_not_sparsity_fast_path}\")\n"
     ]
    },
    {
     "name": "stdout",
     "output_type": "stream",
     "text": [
      "Text:  torch.Size([5761])\n",
      "Embedding shape: torch.Size([128, 512])\n",
      "tensor([[1., 1., 1.,  ..., 1., 1., 1.],\n",
      "        [1., 1., 1.,  ..., 1., 1., 1.],\n",
      "        [1., 1., 1.,  ..., 1., 1., 1.],\n",
      "        ...,\n",
      "        [1., 1., 1.,  ..., 1., 1., 1.],\n",
      "        [1., 1., 1.,  ..., 1., 1., 1.],\n",
      "        [1., 1., 1.,  ..., 1., 1., 1.]], device='cuda:0')\n",
      "Embedding + Masking: tensor([[0.9687, 0.9120, 0.9847,  ..., 1.1066, 0.9647, 0.9792],\n",
      "        [0.9950, 0.9845, 1.0904,  ..., 0.9705, 1.0689, 1.0626],\n",
      "        [0.9584, 1.0723, 0.9768,  ..., 1.0256, 0.9621, 0.9689],\n",
      "        ...,\n",
      "        [1.0317, 0.9841, 0.9311,  ..., 0.9949, 1.0278, 0.9474],\n",
      "        [0.9459, 0.9851, 1.0219,  ..., 0.9633, 0.9989, 1.0258],\n",
      "        [1.0838, 0.9768, 1.0417,  ..., 0.9750, 1.0245, 1.0779]],\n",
      "       device='cuda:0', grad_fn=<AddBackward0>)\n",
      "masking shape: torch.Size([128, 512])\n",
      "Offset:  torch.Size([128])\n",
      "torch.Size([5761])\n",
      "1157.0379638671875\n",
      "torch.Size([128, 4])\n",
      "65536\n"
     ]
    },
    {
     "name": "stderr",
     "output_type": "stream",
     "text": [
      "c:\\Users\\manmu\\anaconda3\\envs\\aio\\lib\\site-packages\\torch\\nn\\functional.py:5504: UserWarning: 1Torch was not compiled with flash attention. (Triggered internally at ..\\aten\\src\\ATen\\native\\transformers\\cuda\\sdp_utils.cpp:455.)\n",
      "  attn_output = scaled_dot_product_attention(q, k, v, attn_mask, dropout_p, is_causal)\n"
     ]
    }
   ],
   "source": [
    "embed_dim = 512\n",
    "model = TextClassificationModel(vocab_size, embed_dim, num_class,max_len = max_lenght).to(device)\n",
    "criterion = torch.nn.CrossEntropyLoss()\n",
    "\n",
    "for idx, (label, text, offsets) in enumerate(train_dataloader):\n",
    "    print(f'Text:  {text.shape}')\n",
    "    embedding = model.embedding(text,offsets)\n",
    "    print(f'Embedding shape: {embedding.shape}')\n",
    "    masking  = (embedding != 0).float()\n",
    "    print(masking)\n",
    "    print(f'Embedding + Masking: {embedding + masking}')\n",
    "    print(f'masking shape: {masking.shape}')\n",
    "    print(f'Offset:  {offsets.shape}')\n",
    "    mask = create_attention_masking(text)\n",
    "    print(mask.shape)\n",
    "    output = model(text,offsets)\n",
    "    loss = criterion(output,label)\n",
    "    a = loss.item() * label.size(0)\n",
    "    print(a)\n",
    "\n",
    "    print(output.shape)\n",
    "    break\n",
    "\n",
    "\n",
    "print(torch.sum(masking == 1.0).item())"
   ]
  },
  {
   "cell_type": "markdown",
   "metadata": {},
   "source": [
    "#### Test Embedding Layer"
   ]
  },
  {
   "cell_type": "markdown",
   "metadata": {},
   "source": [
    "#### Parameter Counting|"
   ]
  },
  {
   "cell_type": "code",
   "execution_count": 13,
   "metadata": {},
   "outputs": [
    {
     "name": "stdout",
     "output_type": "stream",
     "text": [
      "Total parameters: 52209668\n",
      "Trainable parameters: 52209668\n"
     ]
    }
   ],
   "source": [
    "#print(model)\n",
    "def count_parameters(model):\n",
    "    total_params = 0\n",
    "    trainable_params = 0\n",
    "    for param in model.parameters():\n",
    "        total_params += param.numel()\n",
    "        if param.requires_grad:\n",
    "            trainable_params += param.numel()\n",
    "    return total_params, trainable_params\n",
    "\n",
    "total_params, trainable_params = count_parameters(model)\n",
    "print(f\"Total parameters: {total_params}\")\n",
    "print(f\"Trainable parameters: {trainable_params}\")"
   ]
  },
  {
   "cell_type": "markdown",
   "metadata": {},
   "source": [
    "## Define functions to train the model and evaluate results"
   ]
  },
  {
   "cell_type": "code",
   "execution_count": 14,
   "metadata": {},
   "outputs": [],
   "source": [
    "import time\n",
    "# Hyperparameters\n",
    "EPOCHS = 20  # epoch\n",
    "LR = 0.02 # learning rate\n",
    "\n",
    "criterion = torch.nn.CrossEntropyLoss()\n",
    "optimizer = torch.optim.Adam(model.parameters(), lr=LR)\n",
    "scheduler = torch.optim.lr_scheduler.StepLR(optimizer, 1.0, gamma=0.1)\n",
    "total_train_acc = []\n",
    "total_evaluate_acc = []\n",
    "\n",
    "def train(dataloader):\n",
    "    model.train()\n",
    "    total_acc, total_count, total_loss = 0, 0,0\n",
    "    log_interval = 500\n",
    "    start_time = time.time()\n",
    "\n",
    "    for idx, (label, text, offsets) in enumerate(dataloader):\n",
    "        optimizer.zero_grad()\n",
    "        predicted_label = model(text, offsets)\n",
    "        loss = criterion(predicted_label, label)\n",
    "        total_loss += loss.item() * label.size(0)\n",
    "        loss.backward()\n",
    "        torch.nn.utils.clip_grad_norm_(model.parameters(), 0.1)\n",
    "        optimizer.step()\n",
    "        total_acc += (predicted_label.argmax(1) == label).sum().item()\n",
    "        total_count += label.size(0)\n",
    "        if idx % log_interval == 0 and idx > 0:\n",
    "            elapsed = time.time() - start_time\n",
    "            print(\n",
    "                \"| epoch {:3d} | {:5d}/{:5d} batches \"\n",
    "                \"| accuracy {:8.3f}\".format(\n",
    "                    epoch, idx, len(dataloader), total_acc / total_count\n",
    "                )\n",
    "            )\n",
    "            total_acc, total_count = 0, 0\n",
    "            start_time = time.time()\n",
    "\n",
    "    return total_acc / total_count, total_loss / total_count\n",
    "\n",
    "def evaluate(dataloader):\n",
    "    model.eval()\n",
    "    #model = model.to(\"cpu\")\n",
    "    total_acc, total_count,total_loss = 0, 0, 0\n",
    "\n",
    "    with torch.no_grad():\n",
    "        for idx, (label, text, offsets) in enumerate(dataloader):\n",
    "            predicted_label = model(text, offsets)\n",
    "            loss = criterion(predicted_label, label)\n",
    "            total_loss += loss.item() * label.size(0)\n",
    "            total_acc += (predicted_label.argmax(1) == label).sum().item()\n",
    "            total_count += label.size(0)\n",
    "    return total_acc / total_count , total_loss / total_count"
   ]
  },
  {
   "cell_type": "markdown",
   "metadata": {},
   "source": [
    "## Split the dataset and run the model"
   ]
  },
  {
   "cell_type": "code",
   "execution_count": 15,
   "metadata": {},
   "outputs": [
    {
     "name": "stdout",
     "output_type": "stream",
     "text": [
      "| epoch   1 |   500/  891 batches | accuracy    0.251\n",
      "-----------------------------------------------------------\n",
      "| end of epoch   1 | time: 59.85s | valid accuracy    0.250 \n",
      "-----------------------------------------------------------\n",
      "| epoch   2 |   500/  891 batches | accuracy    0.253\n",
      "-----------------------------------------------------------\n",
      "| end of epoch   2 | time: 59.64s | valid accuracy    0.255 \n",
      "-----------------------------------------------------------\n",
      "| epoch   3 |   500/  891 batches | accuracy    0.249\n",
      "-----------------------------------------------------------\n",
      "| end of epoch   3 | time: 59.59s | valid accuracy    0.245 \n",
      "-----------------------------------------------------------\n",
      "| epoch   4 |   500/  891 batches | accuracy    0.251\n",
      "-----------------------------------------------------------\n",
      "| end of epoch   4 | time: 59.59s | valid accuracy    0.245 \n",
      "-----------------------------------------------------------\n",
      "| epoch   5 |   500/  891 batches | accuracy    0.247\n",
      "-----------------------------------------------------------\n",
      "| end of epoch   5 | time: 59.51s | valid accuracy    0.250 \n",
      "-----------------------------------------------------------\n",
      "| epoch   6 |   500/  891 batches | accuracy    0.249\n",
      "-----------------------------------------------------------\n",
      "| end of epoch   6 | time: 59.53s | valid accuracy    0.250 \n",
      "-----------------------------------------------------------\n",
      "| epoch   7 |   500/  891 batches | accuracy    0.248\n",
      "-----------------------------------------------------------\n",
      "| end of epoch   7 | time: 59.50s | valid accuracy    0.250 \n",
      "-----------------------------------------------------------\n",
      "| epoch   8 |   500/  891 batches | accuracy    0.250\n",
      "-----------------------------------------------------------\n",
      "| end of epoch   8 | time: 59.52s | valid accuracy    0.250 \n",
      "-----------------------------------------------------------\n",
      "| epoch   9 |   500/  891 batches | accuracy    0.249\n",
      "-----------------------------------------------------------\n",
      "| end of epoch   9 | time: 59.50s | valid accuracy    0.250 \n",
      "-----------------------------------------------------------\n",
      "| epoch  10 |   500/  891 batches | accuracy    0.249\n",
      "-----------------------------------------------------------\n",
      "| end of epoch  10 | time: 59.55s | valid accuracy    0.250 \n",
      "-----------------------------------------------------------\n",
      "| epoch  11 |   500/  891 batches | accuracy    0.249\n",
      "-----------------------------------------------------------\n",
      "| end of epoch  11 | time: 59.82s | valid accuracy    0.250 \n",
      "-----------------------------------------------------------\n",
      "| epoch  12 |   500/  891 batches | accuracy    0.247\n",
      "-----------------------------------------------------------\n",
      "| end of epoch  12 | time: 60.00s | valid accuracy    0.250 \n",
      "-----------------------------------------------------------\n",
      "| epoch  13 |   500/  891 batches | accuracy    0.250\n",
      "-----------------------------------------------------------\n",
      "| end of epoch  13 | time: 60.09s | valid accuracy    0.250 \n",
      "-----------------------------------------------------------\n",
      "| epoch  14 |   500/  891 batches | accuracy    0.252\n",
      "-----------------------------------------------------------\n",
      "| end of epoch  14 | time: 60.02s | valid accuracy    0.250 \n",
      "-----------------------------------------------------------\n",
      "| epoch  15 |   500/  891 batches | accuracy    0.250\n",
      "-----------------------------------------------------------\n",
      "| end of epoch  15 | time: 59.99s | valid accuracy    0.250 \n",
      "-----------------------------------------------------------\n",
      "| epoch  16 |   500/  891 batches | accuracy    0.251\n",
      "-----------------------------------------------------------\n",
      "| end of epoch  16 | time: 60.05s | valid accuracy    0.250 \n",
      "-----------------------------------------------------------\n",
      "| epoch  17 |   500/  891 batches | accuracy    0.250\n",
      "-----------------------------------------------------------\n",
      "| end of epoch  17 | time: 59.99s | valid accuracy    0.250 \n",
      "-----------------------------------------------------------\n",
      "| epoch  18 |   500/  891 batches | accuracy    0.252\n",
      "-----------------------------------------------------------\n",
      "| end of epoch  18 | time: 59.99s | valid accuracy    0.250 \n",
      "-----------------------------------------------------------\n",
      "| epoch  19 |   500/  891 batches | accuracy    0.248\n",
      "-----------------------------------------------------------\n",
      "| end of epoch  19 | time: 60.00s | valid accuracy    0.250 \n",
      "-----------------------------------------------------------\n",
      "| epoch  20 |   500/  891 batches | accuracy    0.247\n",
      "-----------------------------------------------------------\n",
      "| end of epoch  20 | time: 60.04s | valid accuracy    0.250 \n",
      "-----------------------------------------------------------\n"
     ]
    }
   ],
   "source": [
    "total_accu = None\n",
    "total_train_acc = []\n",
    "total_evaluate_acc = []\n",
    "\n",
    "train_losses=[]\n",
    "val_losses=[]\n",
    "\n",
    "for epoch in range(1, EPOCHS + 1):\n",
    "    epoch_start_time = time.time()\n",
    "    accu_train, train_loss = train(train_dataloader)\n",
    "    accu_val, val_loss = evaluate(valid_dataloader)\n",
    "    # Append \n",
    "    total_train_acc.append(accu_train); train_losses.append(train_loss)\n",
    "    total_evaluate_acc.append(accu_val);val_losses.append(val_loss)\n",
    "    if total_accu is not None and total_accu > accu_val:\n",
    "        scheduler.step()\n",
    "    else:\n",
    "        total_accu = accu_val\n",
    "    print(\"-\" * 59)\n",
    "    print(\n",
    "        \"| end of epoch {:3d} | time: {:5.2f}s | \"\n",
    "        \"valid accuracy {:8.3f} \".format(\n",
    "            epoch, time.time() - epoch_start_time, accu_val\n",
    "        )\n",
    "    )\n",
    "    print(\"-\" * 59)"
   ]
  },
  {
   "cell_type": "markdown",
   "metadata": {},
   "source": [
    "## Plot Training Process and Evaluation Process"
   ]
  },
  {
   "cell_type": "code",
   "execution_count": 16,
   "metadata": {},
   "outputs": [
    {
     "data": {
      "image/png": "[encoded data removed]",
      "text/plain": [
       "<Figure size 640x480 with 1 Axes>"
      ]
     },
     "metadata": {},
     "output_type": "display_data"
    },
    {
     "data": {
      "image/png": "[encoded data removed]",
      "text/plain": [
       "<Figure size 640x480 with 1 Axes>"
      ]
     },
     "metadata": {},
     "output_type": "display_data"
    },
    {
     "data": {
      "image/png": "[encoded data removed]",
      "text/plain": [
       "<Figure size 640x480 with 1 Axes>"
      ]
     },
     "metadata": {},
     "output_type": "display_data"
    }
   ],
   "source": [
    "import matplotlib.pyplot as plt\n",
    "\n",
    "plt.plot(total_train_acc)\n",
    "plt.title('Biểu đồ từ một danh sách')\n",
    "plt.xlabel('Epochs')\n",
    "plt.ylabel('Training Accuracy')\n",
    "plt.show()\n",
    "\n",
    "plt.plot(total_evaluate_acc)\n",
    "plt.title('Biểu đồ từ một danh sách')\n",
    "plt.xlabel('Epochs')\n",
    "plt.ylabel('Validation Accuracy')\n",
    "plt.show()\n",
    "\n",
    "plt.plot(train_losses)\n",
    "plt.title('Biểu đồ từ một danh sách')\n",
    "plt.xlabel('Epochs')\n",
    "plt.ylabel('Training Loss')\n",
    "plt.show()"
   ]
  },
  {
   "cell_type": "code",
   "execution_count": 17,
   "metadata": {},
   "outputs": [
    {
     "name": "stdout",
     "output_type": "stream",
     "text": [
      "3.1688621266744135\n"
     ]
    }
   ],
   "source": [
    "print(min(train_losses))"
   ]
  },
  {
   "cell_type": "markdown",
   "metadata": {},
   "source": [
    "## Evaluate the model with test dataset"
   ]
  },
  {
   "cell_type": "code",
   "execution_count": 18,
   "metadata": {},
   "outputs": [
    {
     "name": "stdout",
     "output_type": "stream",
     "text": [
      "Checking the results of test dataset.\n"
     ]
    },
    {
     "ename": "TypeError",
     "evalue": "evaluate() takes 1 positional argument but 2 were given",
     "output_type": "error",
     "traceback": [
      "\u001b[1;31m---------------------------------------------------------------------------\u001b[0m",
      "\u001b[1;31mTypeError\u001b[0m                                 Traceback (most recent call last)",
      "Cell \u001b[1;32mIn[18], line 3\u001b[0m\n\u001b[0;32m      1\u001b[0m \u001b[38;5;28mprint\u001b[39m(\u001b[38;5;124m\"\u001b[39m\u001b[38;5;124mChecking the results of test dataset.\u001b[39m\u001b[38;5;124m\"\u001b[39m)\n\u001b[0;32m      2\u001b[0m model \u001b[38;5;241m=\u001b[39mmodel\u001b[38;5;241m.\u001b[39mto(\u001b[38;5;124m'\u001b[39m\u001b[38;5;124mcuda\u001b[39m\u001b[38;5;124m'\u001b[39m)\n\u001b[1;32m----> 3\u001b[0m accu_test, _ \u001b[38;5;241m=\u001b[39m \u001b[43mevaluate\u001b[49m\u001b[43m(\u001b[49m\u001b[43mmodel\u001b[49m\u001b[43m,\u001b[49m\u001b[43mtest_dataloader\u001b[49m\u001b[43m)\u001b[49m\n\u001b[0;32m      4\u001b[0m \u001b[38;5;28mprint\u001b[39m(\u001b[38;5;124m\"\u001b[39m\u001b[38;5;124mtest accuracy \u001b[39m\u001b[38;5;132;01m{:8.3f}\u001b[39;00m\u001b[38;5;124m\"\u001b[39m\u001b[38;5;241m.\u001b[39mformat(accu_test))\n",
      "\u001b[1;31mTypeError\u001b[0m: evaluate() takes 1 positional argument but 2 were given"
     ]
    }
   ],
   "source": [
    "print(\"Checking the results of test dataset.\")\n",
    "model =model.to('cuda')\n",
    "accu_test, _ = evaluate(model,test_dataloader)\n",
    "print(\"test accuracy {:8.3f}\".format(accu_test))"
   ]
  },
  {
   "cell_type": "markdown",
   "metadata": {},
   "source": [
    "## Test on Random news"
   ]
  },
  {
   "cell_type": "code",
   "execution_count": null,
   "metadata": {},
   "outputs": [
    {
     "name": "stdout",
     "output_type": "stream",
     "text": [
      "This is a Sports news\n"
     ]
    }
   ],
   "source": [
    "ag_news_label = {1: \"World\", 2: \"Sports\", 3: \"Business\", 4: \"Sci/Tec\"}\n",
    "\n",
    "def predict(text, text_pipeline):\n",
    "    with torch.no_grad():\n",
    "        text = torch.tensor(text_pipeline(text))\n",
    "        output = model(text, torch.tensor([0]))\n",
    "        return output.argmax(1).item() + 1\n",
    "\n",
    "ex_text_str = \"I want to play badminton\"\n",
    "\n",
    "model = model.to(\"cpu\")\n",
    "\n",
    "print(\"This is a %s news\" % ag_news_label[predict(ex_text_str, text_pipeline)])"
   ]
  },
  {
   "cell_type": "markdown",
   "metadata": {},
   "source": [
    "#### Save and Load Model "
   ]
  },
  {
   "cell_type": "code",
   "execution_count": null,
   "metadata": {},
   "outputs": [],
   "source": []
  }
 ],
 "metadata": {
  "kernelspec": {
   "display_name": "aio",
   "language": "python",
   "name": "python3"
  },
  "language_info": {
   "codemirror_mode": {
    "name": "ipython",
    "version": 3
   },
   "file_extension": ".py",
   "mimetype": "text/x-python",
   "name": "python",
   "nbconvert_exporter": "python",
   "pygments_lexer": "ipython3",
   "version": "3.10.0"
  }
 },
 "nbformat": 4,
 "nbformat_minor": 2
}
