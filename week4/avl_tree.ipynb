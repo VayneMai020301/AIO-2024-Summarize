{
 "cells": [
  {
   "cell_type": "code",
   "execution_count": 2,
   "metadata": {},
   "outputs": [],
   "source": [
    "from IPython.display import Image\n",
    "import math\n",
    "import pydotplus\n",
    "from collections import deque\n",
    "import graphviz\n",
    "\n",
    "\"\"\" Script to plot Binary-Tree-View\"\"\"\n",
    "def plot_tree(root):\n",
    "  def _add_edges( graph, node):\n",
    "    if node:\n",
    "      if node.left:\n",
    "        edge_left = pydotplus.Edge(str(node.value), str(node.left.value))\n",
    "        graph.add_edge(edge_left)\n",
    "        _add_edges(graph, node.left)\n",
    "\n",
    "      if node.right:\n",
    "        edge_right = pydotplus.Edge(str(node.value), str(node.right.value))\n",
    "        graph.add_edge(edge_right)\n",
    "        _add_edges(graph, node.right)\n",
    "      else:\n",
    "        # placeholder_value = str(node.value) + '_placeholder'\n",
    "        # placeholder_node = pydotplus.Node(placeholder_value)\n",
    "        # graph.add_node(placeholder_node)\n",
    "        # edge_placeholder = pydotplus.Edge(str(node.value), \"\", color='blue')\n",
    "        # graph.add_edge(edge_placeholder)\n",
    "        pass\n",
    "\n",
    "  graph = pydotplus.Dot(graph_type='digraph')\n",
    "\n",
    "  if root:\n",
    "    root_node = pydotplus.Node(str(root.value))\n",
    "    graph.add_node(root_node)\n",
    "    _add_edges(graph, root)\n",
    "\n",
    "  graph.write_png('./imgs/binary_search_tree.png')\n",
    "  print('Saved binary_search_tree.png')"
   ]
  },
  {
   "cell_type": "markdown",
   "metadata": {},
   "source": [
    "# Defination Node"
   ]
  },
  {
   "cell_type": "code",
   "execution_count": 3,
   "metadata": {},
   "outputs": [],
   "source": [
    "class AVLNode:\n",
    "    def __init__(self, value):\n",
    "        self.value = value\n",
    "        self.left = None\n",
    "        self.right = None\n",
    "        self.height = 1"
   ]
  },
  {
   "cell_type": "markdown",
   "metadata": {},
   "source": [
    "# Defination AVL Tree\n",
    "1. Defination Insert function (ensure tree's balanced)\n",
    "2. Definition Delete function(ensure tree's balanced)\n",
    "3. Definition BFS (Breath First Search) function\n",
    "4. Definition BFS (Breath First Search) function\n"
   ]
  },
  {
   "cell_type": "code",
   "execution_count": 4,
   "metadata": {},
   "outputs": [],
   "source": [
    "class AVLTree:\n",
    "    def __init__(self):\n",
    "        self.root = None\n",
    "\n",
    "    def insert(self, value):\n",
    "        self.root = self._insert_recursive(self.root, value)\n",
    "\n",
    "    def _insert_recursive(self, node, value):\n",
    "        # Step 1: Perform normal BST insertion\n",
    "        if node is None:\n",
    "            return AVLNode(value)\n",
    "\n",
    "        if value < node.value:\n",
    "            node.left = self._insert_recursive(node.left, value)\n",
    "        else:\n",
    "            node.right = self._insert_recursive(node.right, value)\n",
    "\n",
    "        # Step 2: Update height of this ancestor node\n",
    "        node.height = 1 + max(self._get_height(node.left), self._get_height(node.right))\n",
    "\n",
    "        # Step 3: Get the balance factor of this ancestor node to check whether this node became unbalanced\n",
    "        balance = self._get_balance(node)\n",
    "\n",
    "        # If the node becomes unbalanced, then there are 4 cases\n",
    "\n",
    "        # Left Left Case (Mất cân bằng ở con trái của con trái)\n",
    "        if balance > 1 and value < node.left.value:\n",
    "            return self._right_rotate(node)\n",
    "\n",
    "        # Right Right Case (Mất cân bằng ở con phải của con phải)\n",
    "        if balance < -1 and value > node.right.value:\n",
    "            return self._left_rotate(node)\n",
    "\n",
    "        # Left Right Case (Mất cân bằng con phải của con trái)\n",
    "        if balance > 1 and value > node.left.value:\n",
    "            node.left = self._left_rotate(node.left)\n",
    "            return self._right_rotate(node)\n",
    "\n",
    "        # Right Left Case (Mất cân bằng con trái của con phải)\n",
    "        if balance < -1 and value < node.right.value:\n",
    "            node.right = self._right_rotate(node.right)\n",
    "            return self._left_rotate(node)\n",
    "\n",
    "        return node\n",
    "\n",
    "    def _left_rotate(self, z):\n",
    "        y = z.right\n",
    "        T2 = y.left\n",
    "\n",
    "        y.left = z\n",
    "        z.right = T2\n",
    "\n",
    "        z.height = 1 + max(self._get_height(z.left), self._get_height(z.right))\n",
    "        y.height = 1 + max(self._get_height(y.left), self._get_height(y.right))\n",
    "\n",
    "        return y\n",
    "\n",
    "    def _right_rotate(self, z):\n",
    "        y = z.left\n",
    "        T3 = y.right\n",
    "\n",
    "        y.right = z\n",
    "        z.left = T3\n",
    "\n",
    "        z.height = 1 + max(self._get_height(z.left), self._get_height(z.right))\n",
    "        y.height = 1 + max(self._get_height(y.left), self._get_height(y.right))\n",
    "\n",
    "        return y\n",
    "\n",
    "    def _get_height(self, node):\n",
    "        if node is None:\n",
    "            return 0\n",
    "        return node.height\n",
    "\n",
    "    def _get_balance(self, node):\n",
    "        if node is None:\n",
    "            return 0\n",
    "        return self._get_height(node.left) - self._get_height(node.right)\n",
    "\n",
    "    def bfs_traversal(self):\n",
    "        result = []\n",
    "        if self.root is None:\n",
    "            return result\n",
    "\n",
    "        queue = deque()\n",
    "        queue.append(self.root)\n",
    "\n",
    "        while queue:\n",
    "            node = queue.popleft()\n",
    "            result.append(node.value)\n",
    "            if node.left:\n",
    "                queue.append(node.left)\n",
    "            if node.right:\n",
    "                queue.append(node.right)\n",
    "\n",
    "        return result\n",
    "\n",
    "    def delete(self, value):\n",
    "        self.root = self._delete_recursive(self.root, value)\n",
    "\n",
    "    def _delete_recursive(self, node, value):\n",
    "        if node is None:\n",
    "            return None\n",
    "\n",
    "        if value < node.value:\n",
    "            node.left = self._delete_recursive(node.left, value)\n",
    "        elif value > node.value:\n",
    "            node.right = self._delete_recursive(node.right, value)\n",
    "        else:\n",
    "            if node.left is None:\n",
    "                return node.right\n",
    "            elif node.right is None:\n",
    "                return node.left\n",
    "            else:\n",
    "                min_node = self._find_min(node.right)\n",
    "                node.value = min_node.value\n",
    "                node.right = self._delete_recursive(node.right, min_node.value)\n",
    "\n",
    "        if node is None:\n",
    "            return node\n",
    "\n",
    "        node.height = 1 + max(self._get_height(node.left), self._get_height(node.right))\n",
    "        balance = self._get_balance(node)\n",
    "\n",
    "        if balance > 1 and self._get_balance(node.left) >= 0:\n",
    "            return self._right_rotate(node)\n",
    "\n",
    "        if balance < -1 and self._get_balance(node.right) <= 0:\n",
    "            return self._left_rotate(node)\n",
    "\n",
    "        if balance > 1 and self._get_balance(node.left) < 0:\n",
    "            node.left = self._left_rotate(node.left)\n",
    "            return self._right_rotate(node)\n",
    "\n",
    "        if balance < -1 and self._get_balance(node.right) > 0:\n",
    "            node.right = self._right_rotate(node.right)\n",
    "            return self._left_rotate(node)\n",
    "\n",
    "        return node"
   ]
  },
  {
   "cell_type": "markdown",
   "metadata": {},
   "source": [
    "# Create AVL Tree"
   ]
  },
  {
   "cell_type": "code",
   "execution_count": 5,
   "metadata": {},
   "outputs": [
    {
     "name": "stdout",
     "output_type": "stream",
     "text": [
      "Saved binary_search_tree.png\n"
     ]
    },
    {
     "data": {
      "image/png": "[encoded data removed]",
      "text/plain": [
       "<IPython.core.display.Image object>"
      ]
     },
     "execution_count": 5,
     "metadata": {},
     "output_type": "execute_result"
    }
   ],
   "source": [
    "avl_tree = AVLTree()\n",
    "data = [50, 30, 20, 40, 70, 60, 80, 25, 45, 90, 75]\n",
    "for d in data:\n",
    "  avl_tree.insert(d)\n",
    "\n",
    "plot_tree(avl_tree.root)\n",
    "Image(filename='./imgs/binary_search_tree.png')"
   ]
  },
  {
   "cell_type": "markdown",
   "metadata": {},
   "source": [
    "# Step by Step Insert Node\n",
    "```\n",
    "[50,30,20,40,70,60,80,25,45,90,75,65]\n",
    "```"
   ]
  },
  {
   "cell_type": "code",
   "execution_count": 6,
   "metadata": {},
   "outputs": [],
   "source": [
    "def add_node(avl_tree,value):\n",
    "    avl_tree.insert(value)\n",
    "    plot_tree(avl_tree.root)\n",
    "    Image(filename='./imgs/binary_search_tree.png')"
   ]
  },
  {
   "cell_type": "markdown",
   "metadata": {},
   "source": [
    "### Add Node 50\n",
    "```\n",
    "[50,30,20,40,70,60,80,25,45,90,75,65]\n",
    "```"
   ]
  },
  {
   "cell_type": "code",
   "execution_count": 7,
   "metadata": {},
   "outputs": [
    {
     "name": "stdout",
     "output_type": "stream",
     "text": [
      "Saved binary_search_tree.png\n"
     ]
    },
    {
     "data": {
      "image/png": "[encoded data removed]",
      "text/plain": [
       "<IPython.core.display.Image object>"
      ]
     },
     "execution_count": 7,
     "metadata": {},
     "output_type": "execute_result"
    }
   ],
   "source": [
    "avl_tree = AVLTree()\n",
    "add_node(avl_tree, 50)\n",
    "Image(filename='./imgs/binary_search_tree.png')"
   ]
  },
  {
   "cell_type": "markdown",
   "metadata": {},
   "source": [
    "### Add Node 30\n",
    "```\n",
    "[50,30,20,40,70,60,80,25,45,90,75,65]\n",
    "```"
   ]
  },
  {
   "cell_type": "code",
   "execution_count": 8,
   "metadata": {},
   "outputs": [
    {
     "name": "stdout",
     "output_type": "stream",
     "text": [
      "Saved binary_search_tree.png\n"
     ]
    },
    {
     "data": {
      "image/png": "[encoded data removed]",
      "text/plain": [
       "<IPython.core.display.Image object>"
      ]
     },
     "execution_count": 8,
     "metadata": {},
     "output_type": "execute_result"
    }
   ],
   "source": [
    "add_node(avl_tree, 30)\n",
    "Image(filename='./imgs/binary_search_tree.png')"
   ]
  },
  {
   "cell_type": "markdown",
   "metadata": {},
   "source": [
    "### Add Node 20\n",
    "```\n",
    "[50,30,20,40,70,60,80,25,45,90,75,65]\n",
    "```"
   ]
  },
  {
   "cell_type": "code",
   "execution_count": 9,
   "metadata": {},
   "outputs": [
    {
     "name": "stdout",
     "output_type": "stream",
     "text": [
      "Saved binary_search_tree.png\n"
     ]
    },
    {
     "data": {
      "image/png": "[encoded data removed]",
      "text/plain": [
       "<IPython.core.display.Image object>"
      ]
     },
     "execution_count": 9,
     "metadata": {},
     "output_type": "execute_result"
    }
   ],
   "source": [
    "add_node(avl_tree, 20)\n",
    "Image(filename='./imgs/binary_search_tree.png')"
   ]
  },
  {
   "cell_type": "markdown",
   "metadata": {},
   "source": [
    "### Add Node 40\n",
    "```\n",
    "[50,30,20,40,70,60,80,25,45,90,75,65]\n",
    "```"
   ]
  },
  {
   "cell_type": "code",
   "execution_count": 10,
   "metadata": {},
   "outputs": [
    {
     "name": "stdout",
     "output_type": "stream",
     "text": [
      "Saved binary_search_tree.png\n"
     ]
    },
    {
     "data": {
      "image/png": "[encoded data removed]",
      "text/plain": [
       "<IPython.core.display.Image object>"
      ]
     },
     "execution_count": 10,
     "metadata": {},
     "output_type": "execute_result"
    }
   ],
   "source": [
    "add_node(avl_tree, 40)\n",
    "Image(filename='./imgs/binary_search_tree.png')"
   ]
  },
  {
   "cell_type": "markdown",
   "metadata": {},
   "source": [
    "### Add Node 70\n",
    "```\n",
    "[50,30,20,40,70,60,80,25,45,90,75,65]\n",
    "```"
   ]
  },
  {
   "cell_type": "code",
   "execution_count": null,
   "metadata": {},
   "outputs": [],
   "source": [
    "add_node(avl_tree, 70)\n",
    "Image(filename='./imgs/binary_search_tree.png')"
   ]
  },
  {
   "cell_type": "markdown",
   "metadata": {},
   "source": [
    "### Add Node 80\n",
    "```\n",
    "[50,30,20,40,70,60,80,25,45,90,75,65]\n",
    "```"
   ]
  },
  {
   "cell_type": "code",
   "execution_count": null,
   "metadata": {},
   "outputs": [],
   "source": [
    "add_node(avl_tree, 80)\n",
    "Image(filename='./imgs/binary_search_tree.png')"
   ]
  },
  {
   "cell_type": "markdown",
   "metadata": {},
   "source": [
    "### Add Node 25\n",
    "```\n",
    "[50,30,20,40,70,60,80,25,45,90,75,65]\n",
    "```"
   ]
  },
  {
   "cell_type": "code",
   "execution_count": null,
   "metadata": {},
   "outputs": [],
   "source": [
    "add_node(avl_tree, 25)\n",
    "Image(filename='./imgs/binary_search_tree.png')"
   ]
  },
  {
   "cell_type": "markdown",
   "metadata": {},
   "source": [
    "### Add Node 45\n",
    "```\n",
    "[50,30,20,40,70,60,80,25,45,90,75,65]\n",
    "```"
   ]
  },
  {
   "cell_type": "code",
   "execution_count": null,
   "metadata": {},
   "outputs": [],
   "source": [
    "add_node(avl_tree, 45)\n",
    "Image(filename='./imgs/binary_search_tree.png')"
   ]
  },
  {
   "cell_type": "markdown",
   "metadata": {},
   "source": [
    "### Add Node 90\n",
    "```\n",
    "[50,30,20,40,70,60,80,25,45,90,75,65]\n",
    "```"
   ]
  },
  {
   "cell_type": "code",
   "execution_count": null,
   "metadata": {},
   "outputs": [],
   "source": [
    "add_node(avl_tree, 90)\n",
    "Image(filename='./imgs/binary_search_tree.png')"
   ]
  },
  {
   "cell_type": "markdown",
   "metadata": {},
   "source": [
    "### Add Node 75\n",
    "```\n",
    "[50,30,20,40,70,60,80,25,45,90,75,65]\n",
    "```"
   ]
  },
  {
   "cell_type": "code",
   "execution_count": null,
   "metadata": {},
   "outputs": [],
   "source": [
    "add_node(avl_tree, 75)\n",
    "Image(filename='./imgs/binary_search_tree.png')"
   ]
  },
  {
   "cell_type": "markdown",
   "metadata": {},
   "source": [
    "### Add Node 65\n",
    "```\n",
    "[50,30,20,40,70,60,80,25,45,90,75,65]\n",
    "```"
   ]
  },
  {
   "cell_type": "code",
   "execution_count": null,
   "metadata": {},
   "outputs": [],
   "source": [
    "add_node(avl_tree, 20)\n",
    "Image(filename='./imgs/binary_search_tree.png')"
   ]
  },
  {
   "cell_type": "code",
   "execution_count": null,
   "metadata": {},
   "outputs": [],
   "source": []
  }
 ],
 "metadata": {
  "kernelspec": {
   "display_name": "aio",
   "language": "python",
   "name": "python3"
  },
  "language_info": {
   "codemirror_mode": {
    "name": "ipython",
    "version": 3
   },
   "file_extension": ".py",
   "mimetype": "text/x-python",
   "name": "python",
   "nbconvert_exporter": "python",
   "pygments_lexer": "ipython3",
   "version": "3.10.0"
  }
 },
 "nbformat": 4,
 "nbformat_minor": 2
}
