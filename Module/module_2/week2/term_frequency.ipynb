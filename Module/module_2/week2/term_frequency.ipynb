{
 "cells": [
  {
   "cell_type": "markdown",
   "metadata": {},
   "source": [
    "# Term-Frequency (tf) calculation\n",
    "$$\n",
    "tf(t,d) = \\frac{f_{t,d}}{\\sum_{t'\\epsilon d}f_{t',d}}\n",
    "$$\n",
    "\n",
    "$$\n",
    "\\text{tf}(t, d):  \\text{The number appearance word t in document d} \\\\\n",
    "\\text{}{\\sum_{t'\\epsilon d}{f_{t',d}}}:  \\text{Total word t in document d} \\\\\n",
    "$$\n",
    "# Inverse Documents Frequency (tdf) calculation\n",
    "\n",
    "\n",
    "$$\n",
    "itf(t,D) = \\log (\\frac{N}{|{d \\epsilon D : t \\epsilon d}|})\n",
    "$$\n",
    "\n",
    "$$\n",
    "\\text{}N:  \\text{Number d(documents) in D (corpus)} \\\\\n",
    "\\text{}{|{d \\epsilon D : t \\epsilon d}|}:  \\text{Total appearance of word t in corpus D} \\\\\n",
    "$$\n",
    "\n",
    "# TF-IDF calculation\n",
    "\n",
    "$$\n",
    "\\text{}TF-IDF = tf(t,d) * itf(t,D)\n",
    "$$\n",
    "<body>\n",
    "<div>\n",
    "<img title=\"a title\" alt=\"Alt text\" src=\"Figure_1.png\">\n",
    "</div>\n",
    "</body>\n",
    "\n",
    "\n"
   ]
  },
  {
   "cell_type": "code",
   "execution_count": 1,
   "metadata": {},
   "outputs": [],
   "source": [
    "import numpy as np\n",
    "import matplotlib.pyplot as plt"
   ]
  },
  {
   "cell_type": "code",
   "execution_count": 2,
   "metadata": {},
   "outputs": [],
   "source": [
    "corpus = [\"Tôi thích học AI\", \"AI là trí tuệ nhân tạo\",\n",
    "             \"AGI là siêu trí tuệ nhân tạo\"]\n",
    "\n",
    "def plot(matrix):\n",
    "    plt.imshow(matrix, cmap='viridis', interpolation='nearest')\n",
    "    plt.colorbar() \n",
    "    plt.grid(False)  # Thêm thanh màu\n",
    "    plt.show()"
   ]
  },
  {
   "cell_type": "markdown",
   "metadata": {},
   "source": [
    "#### Get Vocabulary (from corpus)"
   ]
  },
  {
   "cell_type": "code",
   "execution_count": 10,
   "metadata": {},
   "outputs": [],
   "source": [
    "\n",
    "def get_vocab_from_corpus(corpus : list[str]) -> list:\n",
    "    \"\"\"\n",
    "        * Return vocabs from corpus\n",
    "    \"\"\"\n",
    "    vocabs = list()\n",
    "    for doc in corpus:\n",
    "        vocabs.extend(doc.split())\n",
    "        \n",
    "    unique_vocabs = list(set(vocabs))\n",
    "    sorted_list = sorted(unique_vocabs)\n",
    "    return sorted_list"
   ]
  },
  {
   "cell_type": "code",
   "execution_count": 11,
   "metadata": {},
   "outputs": [
    {
     "data": {
      "text/plain": [
       "['AGI', 'AI', 'Tôi', 'học', 'là', 'nhân', 'siêu', 'thích', 'trí', 'tuệ', 'tạo']"
      ]
     },
     "execution_count": 11,
     "metadata": {},
     "output_type": "execute_result"
    }
   ],
   "source": [
    "get_vocab_from_corpus(corpus=corpus)"
   ]
  },
  {
   "cell_type": "markdown",
   "metadata": {},
   "source": [
    "### Get term frequency (from corpus)"
   ]
  },
  {
   "cell_type": "code",
   "execution_count": 12,
   "metadata": {},
   "outputs": [],
   "source": [
    "def get_term_frequency(corpus: list[str]) -> np.ndarray:\n",
    "    \"\"\"\n",
    "        * Return term_frequency with Input is Corpus\n",
    "    \"\"\"\n",
    "    vocabs = get_vocab_from_corpus(corpus)\n",
    "    term_frequency = np.zeros((len(corpus), len(vocabs)))\n",
    "    for i, doc in enumerate(corpus):\n",
    "        for word in doc.split():\n",
    "            term_frequency[i, list(vocabs).index(word)] += 1\n",
    "    term_frequency /= term_frequency.sum(axis=1, keepdims=True  ) \n",
    "    return term_frequency"
   ]
  },
  {
   "cell_type": "code",
   "execution_count": 13,
   "metadata": {},
   "outputs": [
    {
     "data": {
      "text/plain": [
       "array([[0.        , 0.25      , 0.25      , 0.25      , 0.        ,\n",
       "        0.        , 0.        , 0.25      , 0.        , 0.        ,\n",
       "        0.        ],\n",
       "       [0.        , 0.16666667, 0.        , 0.        , 0.16666667,\n",
       "        0.16666667, 0.        , 0.        , 0.16666667, 0.16666667,\n",
       "        0.16666667],\n",
       "       [0.14285714, 0.        , 0.        , 0.        , 0.14285714,\n",
       "        0.14285714, 0.14285714, 0.        , 0.14285714, 0.14285714,\n",
       "        0.14285714]])"
      ]
     },
     "execution_count": 13,
     "metadata": {},
     "output_type": "execute_result"
    }
   ],
   "source": [
    "get_term_frequency(corpus=corpus)"
   ]
  },
  {
   "cell_type": "markdown",
   "metadata": {},
   "source": [
    "### Get Invert Document Frequency (from corpus)"
   ]
  },
  {
   "cell_type": "code",
   "execution_count": 14,
   "metadata": {},
   "outputs": [],
   "source": [
    "def get_inverse_document_frequency(corpus: list[str])-> np.array:\n",
    "    \"\"\"\n",
    "        * Return Inverse Document Frequency from corpus\n",
    "    \"\"\"\n",
    "    vocabs = get_vocab_from_corpus(corpus)\n",
    "    idf = np.zeros(len(vocabs))\n",
    "    for i, word in enumerate(vocabs):\n",
    "        idf[i] = np.log(len(corpus) / (1 + sum([word in doc for doc in corpus])))\n",
    "    \n",
    "    return idf"
   ]
  },
  {
   "cell_type": "markdown",
   "metadata": {},
   "source": [
    "### Get TF-IDF"
   ]
  },
  {
   "cell_type": "code",
   "execution_count": 15,
   "metadata": {},
   "outputs": [],
   "source": [
    "def get_metrix(corpus: list[str]) -> np.ndarray: \n",
    "    return get_term_frequency(corpus) * get_inverse_document_frequency(corpus)"
   ]
  },
  {
   "cell_type": "code",
   "execution_count": 16,
   "metadata": {},
   "outputs": [
    {
     "name": "stdout",
     "output_type": "stream",
     "text": [
      "*************** TF-IDF Matrix \n",
      " [[0.         0.         0.10136628 0.10136628 0.         0.\n",
      "  0.         0.10136628 0.         0.         0.        ]\n",
      " [0.         0.         0.         0.         0.         0.\n",
      "  0.         0.         0.         0.         0.        ]\n",
      " [0.05792359 0.         0.         0.         0.         0.\n",
      "  0.05792359 0.         0.         0.         0.        ]]\n",
      "\n"
     ]
    }
   ],
   "source": [
    "print(f\"*************** TF-IDF Matrix \\n {get_metrix(corpus)}\\n\")"
   ]
  },
  {
   "cell_type": "code",
   "execution_count": 17,
   "metadata": {},
   "outputs": [
    {
     "data": {
      "image/png": "[encoded data removed]",
      "text/plain": [
       "<Figure size 640x480 with 2 Axes>"
      ]
     },
     "metadata": {},
     "output_type": "display_data"
    }
   ],
   "source": [
    "plot(get_metrix(corpus))"
   ]
  }
 ],
 "metadata": {
  "kernelspec": {
   "display_name": "aio",
   "language": "python",
   "name": "python3"
  },
  "language_info": {
   "codemirror_mode": {
    "name": "ipython",
    "version": 3
   },
   "file_extension": ".py",
   "mimetype": "text/x-python",
   "name": "python",
   "nbconvert_exporter": "python",
   "pygments_lexer": "ipython3",
   "version": "3.10.0"
  }
 },
 "nbformat": 4,
 "nbformat_minor": 2
}
