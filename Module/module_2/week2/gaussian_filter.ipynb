{
 "cells": [
  {
   "cell_type": "markdown",
   "metadata": {},
   "source": [
    "## Gaussian Filter\n",
    "\n",
    "$$\n",
    "\n",
    "G(x,y) = \\frac{1}{2*\\Pi *\\sigma^2} * exp (-\\frac{x^2+y^2}{2*\\sigma^2})$$"
   ]
  },
  {
   "cell_type": "markdown",
   "metadata": {},
   "source": [
    "#### Motivation"
   ]
  },
  {
   "cell_type": "code",
   "execution_count": 18,
   "metadata": {},
   "outputs": [
    {
     "name": "stdout",
     "output_type": "stream",
     "text": [
      "[-7. -6. -5. -4. -3. -2. -1.  0.  1.  2.  3.  4.  5.  6.  7.]\n"
     ]
    }
   ],
   "source": [
    "import numpy as np\n",
    "import matplotlib.pyplot as plt\n",
    "def plot(gaussian_kernel):\n",
    "    plt.imshow(gaussian_kernel, interpolation='nearest', cmap='viridis')\n",
    "    plt.colorbar()\n",
    "    plt.title('2D Gaussian Kernel')\n",
    "    plt.show()\n",
    "size = 15\n",
    "sigma = 2\n",
    "kernel_1d = np.linspace(-(size // 2), size // 2, size)\n",
    "print(kernel_1d)"
   ]
  },
  {
   "cell_type": "code",
   "execution_count": 19,
   "metadata": {},
   "outputs": [
    {
     "name": "stdout",
     "output_type": "stream",
     "text": [
      "[[-7. -6. -5. -4. -3. -2. -1.  0.  1.  2.  3.  4.  5.  6.  7.]\n",
      " [-7. -6. -5. -4. -3. -2. -1.  0.  1.  2.  3.  4.  5.  6.  7.]\n",
      " [-7. -6. -5. -4. -3. -2. -1.  0.  1.  2.  3.  4.  5.  6.  7.]\n",
      " [-7. -6. -5. -4. -3. -2. -1.  0.  1.  2.  3.  4.  5.  6.  7.]\n",
      " [-7. -6. -5. -4. -3. -2. -1.  0.  1.  2.  3.  4.  5.  6.  7.]\n",
      " [-7. -6. -5. -4. -3. -2. -1.  0.  1.  2.  3.  4.  5.  6.  7.]\n",
      " [-7. -6. -5. -4. -3. -2. -1.  0.  1.  2.  3.  4.  5.  6.  7.]\n",
      " [-7. -6. -5. -4. -3. -2. -1.  0.  1.  2.  3.  4.  5.  6.  7.]\n",
      " [-7. -6. -5. -4. -3. -2. -1.  0.  1.  2.  3.  4.  5.  6.  7.]\n",
      " [-7. -6. -5. -4. -3. -2. -1.  0.  1.  2.  3.  4.  5.  6.  7.]\n",
      " [-7. -6. -5. -4. -3. -2. -1.  0.  1.  2.  3.  4.  5.  6.  7.]\n",
      " [-7. -6. -5. -4. -3. -2. -1.  0.  1.  2.  3.  4.  5.  6.  7.]\n",
      " [-7. -6. -5. -4. -3. -2. -1.  0.  1.  2.  3.  4.  5.  6.  7.]\n",
      " [-7. -6. -5. -4. -3. -2. -1.  0.  1.  2.  3.  4.  5.  6.  7.]\n",
      " [-7. -6. -5. -4. -3. -2. -1.  0.  1.  2.  3.  4.  5.  6.  7.]]\n"
     ]
    }
   ],
   "source": [
    "x_position  = np.tile(kernel_1d,(size, 1))\n",
    "print(x_position)"
   ]
  },
  {
   "cell_type": "code",
   "execution_count": 20,
   "metadata": {},
   "outputs": [
    {
     "name": "stdout",
     "output_type": "stream",
     "text": [
      "[[-7. -7. -7. -7. -7. -7. -7. -7. -7. -7. -7. -7. -7. -7. -7.]\n",
      " [-6. -6. -6. -6. -6. -6. -6. -6. -6. -6. -6. -6. -6. -6. -6.]\n",
      " [-5. -5. -5. -5. -5. -5. -5. -5. -5. -5. -5. -5. -5. -5. -5.]\n",
      " [-4. -4. -4. -4. -4. -4. -4. -4. -4. -4. -4. -4. -4. -4. -4.]\n",
      " [-3. -3. -3. -3. -3. -3. -3. -3. -3. -3. -3. -3. -3. -3. -3.]\n",
      " [-2. -2. -2. -2. -2. -2. -2. -2. -2. -2. -2. -2. -2. -2. -2.]\n",
      " [-1. -1. -1. -1. -1. -1. -1. -1. -1. -1. -1. -1. -1. -1. -1.]\n",
      " [ 0.  0.  0.  0.  0.  0.  0.  0.  0.  0.  0.  0.  0.  0.  0.]\n",
      " [ 1.  1.  1.  1.  1.  1.  1.  1.  1.  1.  1.  1.  1.  1.  1.]\n",
      " [ 2.  2.  2.  2.  2.  2.  2.  2.  2.  2.  2.  2.  2.  2.  2.]\n",
      " [ 3.  3.  3.  3.  3.  3.  3.  3.  3.  3.  3.  3.  3.  3.  3.]\n",
      " [ 4.  4.  4.  4.  4.  4.  4.  4.  4.  4.  4.  4.  4.  4.  4.]\n",
      " [ 5.  5.  5.  5.  5.  5.  5.  5.  5.  5.  5.  5.  5.  5.  5.]\n",
      " [ 6.  6.  6.  6.  6.  6.  6.  6.  6.  6.  6.  6.  6.  6.  6.]\n",
      " [ 7.  7.  7.  7.  7.  7.  7.  7.  7.  7.  7.  7.  7.  7.  7.]]\n"
     ]
    }
   ],
   "source": [
    "y_position = np.tile( kernel_1d.reshape(size,-1), (1,size))\n",
    "print(y_position)"
   ]
  },
  {
   "cell_type": "code",
   "execution_count": 21,
   "metadata": {},
   "outputs": [
    {
     "name": "stdout",
     "output_type": "stream",
     "text": [
      "[[1.90393772e-07 9.66899354e-07 3.82416113e-06 1.17792455e-05\n",
      "  2.82569411e-05 5.27909160e-05 7.68103295e-05 8.70375061e-05\n",
      "  7.68103295e-05 5.27909160e-05 2.82569411e-05 1.17792455e-05\n",
      "  3.82416113e-06 9.66899354e-07 1.90393772e-07]\n",
      " [9.66899354e-07 4.91032009e-06 1.94206927e-05 5.98199448e-05\n",
      "  1.43500588e-04 2.68094393e-04 3.90075040e-04 4.42012928e-04\n",
      "  3.90075040e-04 2.68094393e-04 1.43500588e-04 5.98199448e-05\n",
      "  1.94206927e-05 4.91032009e-06 9.66899354e-07]\n",
      " [3.82416113e-06 1.94206927e-05 7.68103295e-05 2.36592471e-04\n",
      "  5.67555834e-04 1.06033389e-03 1.54277671e-03 1.74819504e-03\n",
      "  1.54277671e-03 1.06033389e-03 5.67555834e-04 2.36592471e-04\n",
      "  7.68103295e-05 1.94206927e-05 3.82416113e-06]\n",
      " [1.17792455e-05 5.98199448e-05 2.36592471e-04 7.28756116e-04\n",
      "  1.74819504e-03 3.26605832e-03 4.75208682e-03 5.38481983e-03\n",
      "  4.75208682e-03 3.26605832e-03 1.74819504e-03 7.28756116e-04\n",
      "  2.36592471e-04 5.98199448e-05 1.17792455e-05]\n",
      " [2.82569411e-05 1.43500588e-04 5.67555834e-04 1.74819504e-03\n",
      "  4.19370190e-03 7.83486662e-03 1.13996637e-02 1.29175112e-02\n",
      "  1.13996637e-02 7.83486662e-03 4.19370190e-03 1.74819504e-03\n",
      "  5.67555834e-04 1.43500588e-04 2.82569411e-05]\n",
      " [5.27909160e-05 2.68094393e-04 1.06033389e-03 3.26605832e-03\n",
      "  7.83486662e-03 1.46374579e-02 2.12973755e-02 2.41330882e-02\n",
      "  2.12973755e-02 1.46374579e-02 7.83486662e-03 3.26605832e-03\n",
      "  1.06033389e-03 2.68094393e-04 5.27909160e-05]\n",
      " [7.68103295e-05 3.90075040e-04 1.54277671e-03 4.75208682e-03\n",
      "  1.13996637e-02 2.12973755e-02 3.09874986e-02 3.51134361e-02\n",
      "  3.09874986e-02 2.12973755e-02 1.13996637e-02 4.75208682e-03\n",
      "  1.54277671e-03 3.90075040e-04 7.68103295e-05]\n",
      " [8.70375061e-05 4.42012928e-04 1.74819504e-03 5.38481983e-03\n",
      "  1.29175112e-02 2.41330882e-02 3.51134361e-02 3.97887358e-02\n",
      "  3.51134361e-02 2.41330882e-02 1.29175112e-02 5.38481983e-03\n",
      "  1.74819504e-03 4.42012928e-04 8.70375061e-05]\n",
      " [7.68103295e-05 3.90075040e-04 1.54277671e-03 4.75208682e-03\n",
      "  1.13996637e-02 2.12973755e-02 3.09874986e-02 3.51134361e-02\n",
      "  3.09874986e-02 2.12973755e-02 1.13996637e-02 4.75208682e-03\n",
      "  1.54277671e-03 3.90075040e-04 7.68103295e-05]\n",
      " [5.27909160e-05 2.68094393e-04 1.06033389e-03 3.26605832e-03\n",
      "  7.83486662e-03 1.46374579e-02 2.12973755e-02 2.41330882e-02\n",
      "  2.12973755e-02 1.46374579e-02 7.83486662e-03 3.26605832e-03\n",
      "  1.06033389e-03 2.68094393e-04 5.27909160e-05]\n",
      " [2.82569411e-05 1.43500588e-04 5.67555834e-04 1.74819504e-03\n",
      "  4.19370190e-03 7.83486662e-03 1.13996637e-02 1.29175112e-02\n",
      "  1.13996637e-02 7.83486662e-03 4.19370190e-03 1.74819504e-03\n",
      "  5.67555834e-04 1.43500588e-04 2.82569411e-05]\n",
      " [1.17792455e-05 5.98199448e-05 2.36592471e-04 7.28756116e-04\n",
      "  1.74819504e-03 3.26605832e-03 4.75208682e-03 5.38481983e-03\n",
      "  4.75208682e-03 3.26605832e-03 1.74819504e-03 7.28756116e-04\n",
      "  2.36592471e-04 5.98199448e-05 1.17792455e-05]\n",
      " [3.82416113e-06 1.94206927e-05 7.68103295e-05 2.36592471e-04\n",
      "  5.67555834e-04 1.06033389e-03 1.54277671e-03 1.74819504e-03\n",
      "  1.54277671e-03 1.06033389e-03 5.67555834e-04 2.36592471e-04\n",
      "  7.68103295e-05 1.94206927e-05 3.82416113e-06]\n",
      " [9.66899354e-07 4.91032009e-06 1.94206927e-05 5.98199448e-05\n",
      "  1.43500588e-04 2.68094393e-04 3.90075040e-04 4.42012928e-04\n",
      "  3.90075040e-04 2.68094393e-04 1.43500588e-04 5.98199448e-05\n",
      "  1.94206927e-05 4.91032009e-06 9.66899354e-07]\n",
      " [1.90393772e-07 9.66899354e-07 3.82416113e-06 1.17792455e-05\n",
      "  2.82569411e-05 5.27909160e-05 7.68103295e-05 8.70375061e-05\n",
      "  7.68103295e-05 5.27909160e-05 2.82569411e-05 1.17792455e-05\n",
      "  3.82416113e-06 9.66899354e-07 1.90393772e-07]]\n"
     ]
    }
   ],
   "source": [
    "gaussian_kernel = np.exp(-(x_position**2 + y_position**2) / (2 * sigma**2))\n",
    "gaussian_kernel = gaussian_kernel / (2 * np.pi * sigma**2)\n",
    "print(gaussian_kernel)"
   ]
  },
  {
   "cell_type": "markdown",
   "metadata": {},
   "source": [
    "### Plot"
   ]
  },
  {
   "cell_type": "code",
   "execution_count": 22,
   "metadata": {},
   "outputs": [
    {
     "data": {
      "image/png": "[encoded data removed]",
      "text/plain": [
       "<Figure size 640x480 with 2 Axes>"
      ]
     },
     "metadata": {},
     "output_type": "display_data"
    }
   ],
   "source": []
  },
  {
   "cell_type": "markdown",
   "metadata": {},
   "source": [
    "#### Foudantional\n"
   ]
  },
  {
   "cell_type": "code",
   "execution_count": 16,
   "metadata": {},
   "outputs": [],
   "source": [
    "def gaussian_kernel(size, sigma):\n",
    "   \n",
    "    if size % 2 == 0:\n",
    "        size += 1\n",
    "\n",
    "    kernel_1d = np.linspace(-(size // 2), size // 2, size)\n",
    "\n",
    "    x_position = np.tile(kernel_1d, (size, 1))\n",
    "    y_position = np.tile(kernel_1d.reshape(size, -1), (1, size))\n",
    "\n",
    "    kernel_2d = np.exp(-(x_position**2 + y_position**2) / (2 * sigma**2))\n",
    "    kernel_2d /= (2 * np.pi * sigma**2)\n",
    "\n",
    "    return kernel_2d"
   ]
  },
  {
   "cell_type": "code",
   "execution_count": null,
   "metadata": {},
   "outputs": [],
   "source": []
  }
 ],
 "metadata": {
  "kernelspec": {
   "display_name": "aio",
   "language": "python",
   "name": "python3"
  },
  "language_info": {
   "codemirror_mode": {
    "name": "ipython",
    "version": 3
   },
   "file_extension": ".py",
   "mimetype": "text/x-python",
   "name": "python",
   "nbconvert_exporter": "python",
   "pygments_lexer": "ipython3",
   "version": "3.10.0"
  }
 },
 "nbformat": 4,
 "nbformat_minor": 2
}
