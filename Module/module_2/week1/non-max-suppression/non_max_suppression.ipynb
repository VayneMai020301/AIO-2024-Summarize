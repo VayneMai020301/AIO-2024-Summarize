{
 "cells": [
  {
   "cell_type": "code",
   "execution_count": 67,
   "metadata": {},
   "outputs": [],
   "source": [
    "import numpy as np\n",
    "import matplotlib.pyplot as plt\n",
    "import cv2\n",
    "np.random.seed(42)\n",
    "def plot(img):\n",
    "    rgb =cv2.cvtColor(img, cv2.COLOR_RGB2BGR)\n",
    "    plt.imshow(rgb)"
   ]
  },
  {
   "cell_type": "markdown",
   "metadata": {},
   "source": [
    "### Create Bounding Box(x,y,w,h) Randomly and Score(Confident correspoding)\n",
    "* Assume we have 20 BoundingBox denoted just one sample (1 class) with score(Confident,x,y,w,h) mean while x,y is constant value\n",
    "* We draw it on black image(to Visualization) Easier to see and observation\n",
    "* Image with width = 500, height = 300, w and h bounding box is constant  = 80,60"
   ]
  },
  {
   "cell_type": "code",
   "execution_count": 68,
   "metadata": {},
   "outputs": [
    {
     "data": {
      "image/png": "[encoded data removed]",
      "text/plain": [
       "<Figure size 640x480 with 1 Axes>"
      ]
     },
     "metadata": {},
     "output_type": "display_data"
    }
   ],
   "source": [
    "mask = np.zeros((300, 500), dtype = np.uint8)\n",
    "plot(mask)"
   ]
  },
  {
   "cell_type": "code",
   "execution_count": 211,
   "metadata": {},
   "outputs": [
    {
     "name": "stdout",
     "output_type": "stream",
     "text": [
      "Indication with maximun score: 24\n"
     ]
    },
    {
     "data": {
      "text/plain": [
       "array([186, 129, 286, 204])"
      ]
     },
     "execution_count": 211,
     "metadata": {},
     "output_type": "execute_result"
    }
   ],
   "source": [
    "start_point_x = 180; offset_x = 30\n",
    "start_point_y = 120; offset_y = 25\n",
    "w = 100; h = 75\n",
    "\n",
    "NUM_SAMPLE = 40\n",
    "np.random.seed(42)\n",
    "\n",
    "x1 = np.random.randint(start_point_x, start_point_x + offset_x ,NUM_SAMPLE)\n",
    "y1 = np.random.randint(start_point_y, start_point_y + offset_y ,NUM_SAMPLE)\n",
    "\n",
    "scores =  np.random.uniform(0.5, 1,NUM_SAMPLE)\n",
    "indicating_max_scores = np.argsort(scores)[0]\n",
    "print(f'Indication with maximun score: {indicating_max_scores}')\n",
    "x2 = x1 + w; y2 = y1 + h\n",
    "\n",
    "boxes = np.column_stack((x1, y1, x2, y2))\n",
    "boxes[0]"
   ]
  },
  {
   "cell_type": "code",
   "execution_count": 213,
   "metadata": {},
   "outputs": [
    {
     "data": {
      "image/png": "[encoded data removed]",
      "text/plain": [
       "<Figure size 640x480 with 1 Axes>"
      ]
     },
     "metadata": {},
     "output_type": "display_data"
    }
   ],
   "source": [
    "mask_clone  = mask.copy()\n",
    "for x1,y1,x2,y2 in boxes:\n",
    "    cv2.rectangle(mask_clone, (x1,y1), (x2,y2), color=(255, 255, 255), thickness= 1)\n",
    "\n",
    "plot(mask_clone)"
   ]
  },
  {
   "cell_type": "markdown",
   "metadata": {},
   "source": [
    "### IOU Foudational"
   ]
  },
  {
   "cell_type": "code",
   "execution_count": 214,
   "metadata": {},
   "outputs": [
    {
     "data": {
      "text/plain": [
       "array([199, 135, 299, 210])"
      ]
     },
     "execution_count": 214,
     "metadata": {},
     "output_type": "execute_result"
    }
   ],
   "source": [
    "boxes[0];boxes[1]"
   ]
  },
  {
   "cell_type": "code",
   "execution_count": 242,
   "metadata": {},
   "outputs": [
    {
     "name": "stdout",
     "output_type": "stream",
     "text": [
      "0.6642435256701499\n",
      "0.83104223944014\n",
      "0.5988651243998254\n"
     ]
    }
   ],
   "source": [
    "def IOU(box1, box2): # Make Calculation in Numpy\n",
    "\n",
    "    x1,y1,x2,y2 = box1\n",
    "    x3,y3,x4,y4 = box1\n",
    "\n",
    "    box1 = box1.reshape(1,4)\n",
    "    box2 = box2.reshape(1,4)\n",
    "\n",
    "    x_a = np.maximum(box1[:, 0], box2[:, 0]) # x_a \n",
    "    y_a = np.maximum(box1[:, 1], box2[:, 1]) # y_a \n",
    "    x_b = np.minimum(box1[:, 2], box2[:, 2]) # x_b \n",
    "    y_b = np.minimum(box1[:, 3], box2[:, 3]) # y_b \n",
    "\n",
    "\n",
    "    area_intersect = np.absolute(x_a - x_b + 1) * np.absolute(y_a - y_b+ 1)\n",
    "    area_union = np.absolute(x1 - x2 + 1) * np.absolute(y1 - y2 + 1) + np.absolute(x3 - x4 + 1) * np.absolute(y3 - y4 + 1) - area_intersect\n",
    "\n",
    "    return (area_intersect / area_union) [0]\n",
    "\n",
    "print(IOU(boxes[3],boxes[22]))\n",
    "print(IOU(boxes[3],boxes[4]))\n",
    "print(IOU(boxes[30],boxes[22]))"
   ]
  },
  {
   "cell_type": "code",
   "execution_count": 218,
   "metadata": {},
   "outputs": [
    {
     "name": "stdout",
     "output_type": "stream",
     "text": [
      "[186 129 286 204]\n"
     ]
    }
   ],
   "source": [
    "print(boxes[0])"
   ]
  },
  {
   "cell_type": "code",
   "execution_count": 250,
   "metadata": {},
   "outputs": [
    {
     "data": {
      "text/plain": [
       "40"
      ]
     },
     "execution_count": 250,
     "metadata": {},
     "output_type": "execute_result"
    }
   ],
   "source": [
    "len(boxes)"
   ]
  },
  {
   "cell_type": "markdown",
   "metadata": {},
   "source": [
    "### Apply Non-max-Suppression Algorithm to find out Bounding with maximum score and IOU is unique"
   ]
  },
  {
   "cell_type": "code",
   "execution_count": 270,
   "metadata": {},
   "outputs": [],
   "source": [
    "def non_max_suppression(boxes, scores, threshold):\n",
    "    \"\"\"\n",
    "    Perform non-maximum suppression.\n",
    "\n",
    "    Parameters:\n",
    "    boxes (numpy.ndarray): Array of bounding boxes, each defined by [x1, y1, x2, y2].\n",
    "    scores (numpy.ndarray): Array of confidence scores for each bounding box.\n",
    "    threshold (float): Overlap threshold for suppression.\n",
    "\n",
    "    Returns:\n",
    "    numpy.ndarray: Indices of bounding boxes to keep.\n",
    "    \"\"\"\n",
    "    if len(boxes) == 0:\n",
    "        return []\n",
    "\n",
    "    x1 = boxes[:, 0]\n",
    "    y1 = boxes[:, 1]\n",
    "    x2 = boxes[:, 2]\n",
    "    y2 = boxes[:, 3]\n",
    "\n",
    "    areas = (x2 - x1 + 1) * (y2 - y1 + 1)\n",
    "\n",
    "    # Sort by scores\n",
    "    order = scores.argsort()[::-1]\n",
    "    print(f'order scores: \\n{order}')\n",
    "    keep = []\n",
    "    while order.size > 0:\n",
    "        i = order[0]\n",
    "        keep.append(i)\n",
    "\n",
    "        # Compute IoU (Intersection over Union)\n",
    "        xx1 = np.maximum(x1[i], x1[order[1:]])\n",
    "        yy1 = np.maximum(y1[i], y1[order[1:]])\n",
    "        xx2 = np.minimum(x2[i], x2[order[1:]])\n",
    "        yy2 = np.minimum(y2[i], y2[order[1:]])\n",
    "        \n",
    "        w = np.maximum(0, xx2 - xx1 + 1)\n",
    "        h = np.maximum(0, yy2 - yy1 + 1)\n",
    "\n",
    "        intersection = w * h\n",
    "        iou = intersection / (areas[i] + areas[order[1:]] - intersection)\n",
    "\n",
    "        # Suppress bounding boxes with IoU over the threshold\n",
    "        inds = np.where(iou <= threshold)[0]\n",
    "        order = order[inds + 1]\n",
    "\n",
    "    return keep"
   ]
  },
  {
   "cell_type": "code",
   "execution_count": 271,
   "metadata": {},
   "outputs": [
    {
     "name": "stdout",
     "output_type": "stream",
     "text": [
      "order scores: \n",
      "[21  2  4  7  5 32 14 25 19  3 22 28 38 27 26 39 33  6  0 17 12 30 15 34\n",
      " 11 37 36 16 13 23  9  1 18 31  8 20 29 35 10 24]\n",
      "Indices of boxes to keep: [21]\n",
      "Boxes to keep:\n",
      "[[200 128 300 203]]\n"
     ]
    }
   ],
   "source": [
    "keep_indices = non_max_suppression(boxes, scores, 0.4)\n",
    "kept_boxes = boxes[keep_indices]\n",
    "\n",
    "print(\"Indices of boxes to keep:\", keep_indices)\n",
    "print(\"Boxes to keep:\")\n",
    "print(kept_boxes)"
   ]
  },
  {
   "cell_type": "markdown",
   "metadata": {},
   "source": [
    "### Redraw result after using Non-Max Suppression Algorithm"
   ]
  },
  {
   "cell_type": "code",
   "execution_count": 272,
   "metadata": {},
   "outputs": [
    {
     "data": {
      "image/png": "[encoded data removed]",
      "text/plain": [
       "<Figure size 640x480 with 1 Axes>"
      ]
     },
     "metadata": {},
     "output_type": "display_data"
    }
   ],
   "source": [
    "mask_clone  = mask.copy()\n",
    "for x1,y1,x2,y2 in kept_boxes:\n",
    "    cv2.rectangle(mask_clone, (x1,y1), (x2,y2), color=(255, 255, 255), thickness= 1)\n",
    "\n",
    "plot(mask_clone)"
   ]
  }
 ],
 "metadata": {
  "kernelspec": {
   "display_name": "aio",
   "language": "python",
   "name": "python3"
  },
  "language_info": {
   "codemirror_mode": {
    "name": "ipython",
    "version": 3
   },
   "file_extension": ".py",
   "mimetype": "text/x-python",
   "name": "python",
   "nbconvert_exporter": "python",
   "pygments_lexer": "ipython3",
   "version": "3.10.0"
  }
 },
 "nbformat": 4,
 "nbformat_minor": 2
}
