{
 "cells": [
  {
   "cell_type": "code",
   "execution_count": 1,
   "metadata": {},
   "outputs": [],
   "source": [
    "import numpy as np"
   ]
  },
  {
   "cell_type": "code",
   "execution_count": 5,
   "metadata": {},
   "outputs": [
    {
     "name": "stdout",
     "output_type": "stream",
     "text": [
      "(4,)\n",
      "[1 2 3 4]\n"
     ]
    }
   ],
   "source": [
    "arr = np.array([1,2,3,4])\n",
    "print(arr.shape)\n",
    "print(arr)"
   ]
  },
  {
   "cell_type": "code",
   "execution_count": 7,
   "metadata": {},
   "outputs": [
    {
     "name": "stdout",
     "output_type": "stream",
     "text": [
      "[[1 2 3 4]]\n"
     ]
    }
   ],
   "source": [
    "arr_reshape = arr.reshape(1,4)\n",
    "print(arr_reshape)"
   ]
  },
  {
   "cell_type": "markdown",
   "metadata": {},
   "source": [
    "### Broadcasting when multiply two numpy"
   ]
  },
  {
   "cell_type": "code",
   "execution_count": 20,
   "metadata": {},
   "outputs": [
    {
     "name": "stdout",
     "output_type": "stream",
     "text": [
      "[1 2 3 4]\n",
      "(4,)\n",
      "\n",
      "[1 2 3 4]\n",
      "(4,)\n"
     ]
    }
   ],
   "source": [
    "arr_1 = np.array([1,2,3,4])\n",
    "print(arr_1)\n",
    "print(arr_1.shape)\n",
    "print()\n",
    "arr_1 =arr_1.reshape(-1)\n",
    "print(arr_1)\n",
    "print(arr_1.shape)"
   ]
  },
  {
   "cell_type": "code",
   "execution_count": 23,
   "metadata": {},
   "outputs": [
    {
     "name": "stdout",
     "output_type": "stream",
     "text": [
      "[12 10 12 18 14  9 13 11  2 11 19 12  4 15  3 11  5 12  3  8]\n",
      "(20,)\n",
      "\n",
      "[[12 10 12 18]\n",
      " [14  9 13 11]\n",
      " [ 2 11 19 12]\n",
      " [ 4 15  3 11]\n",
      " [ 5 12  3  8]]\n",
      "(5, 4)\n"
     ]
    }
   ],
   "source": [
    "arr_2 = np.random.randint(2,20,20)\n",
    "print(arr_2)\n",
    "print(arr_2.shape)\n",
    "print()\n",
    "arr_2 = arr_2.reshape(5,-1)\n",
    "print(arr_2)\n",
    "print(arr_2.shape)"
   ]
  },
  {
   "cell_type": "code",
   "execution_count": 25,
   "metadata": {},
   "outputs": [
    {
     "name": "stdout",
     "output_type": "stream",
     "text": [
      "(5, 4)\n",
      "[[12 20 36 72]\n",
      " [14 18 39 44]\n",
      " [ 2 22 57 48]\n",
      " [ 4 30  9 44]\n",
      " [ 5 24  9 32]]\n"
     ]
    }
   ],
   "source": [
    "mul =  arr_2 * arr_1\n",
    "print(mul.shape)\n",
    "print(mul)"
   ]
  },
  {
   "cell_type": "markdown",
   "metadata": {},
   "source": [
    "### Dot Product with two ndarray"
   ]
  },
  {
   "cell_type": "code",
   "execution_count": 28,
   "metadata": {},
   "outputs": [
    {
     "name": "stdout",
     "output_type": "stream",
     "text": [
      "[[1 2]\n",
      " [3 4]]\n",
      "(2, 2)\n"
     ]
    }
   ],
   "source": [
    "arr_1 = np.array([1,2,3,4]).reshape(2,-1)\n",
    "print(arr_1)\n",
    "print(arr_1.shape)"
   ]
  },
  {
   "cell_type": "code",
   "execution_count": 29,
   "metadata": {},
   "outputs": [
    {
     "name": "stdout",
     "output_type": "stream",
     "text": [
      "[[1 2 3]\n",
      " [4 5 6]]\n",
      "(2, 3)\n"
     ]
    }
   ],
   "source": [
    "arr_2 = np.array([1,2,3,4,5,6]).reshape(2,-1)\n",
    "print(arr_2)\n",
    "print(arr_2.shape)"
   ]
  },
  {
   "cell_type": "code",
   "execution_count": 32,
   "metadata": {},
   "outputs": [
    {
     "data": {
      "text/plain": [
       "array([[ 9, 12, 15],\n",
       "       [19, 26, 33]])"
      ]
     },
     "execution_count": 32,
     "metadata": {},
     "output_type": "execute_result"
    }
   ],
   "source": [
    "np.dot(arr_1,arr_2)"
   ]
  },
  {
   "cell_type": "markdown",
   "metadata": {},
   "source": [
    "### Minimum and Maximum between two ndarray"
   ]
  },
  {
   "cell_type": "code",
   "execution_count": 38,
   "metadata": {},
   "outputs": [
    {
     "name": "stdout",
     "output_type": "stream",
     "text": [
      "[[-1  2]\n",
      " [ 3  4]]\n",
      "(2, 2)\n",
      "[[6 3]\n",
      " [9 3]]\n",
      "(2, 2)\n",
      "-------------\n",
      "[[6 3]\n",
      " [9 4]]\n"
     ]
    }
   ],
   "source": [
    "arr_1 = np.array([-1,2,3,4]).reshape(2,-1)\n",
    "print(arr_1)\n",
    "print(arr_1.shape)\n",
    "\n",
    "arr_2 = np.array([6,3,9,3]).reshape(2,-1)\n",
    "print(arr_2)\n",
    "print(arr_2.shape)\n",
    "print('-------------')\n",
    "print(np.maximum(arr_1,arr_2))"
   ]
  },
  {
   "cell_type": "markdown",
   "metadata": {},
   "source": [
    "### Max and min of ndarray"
   ]
  },
  {
   "cell_type": "code",
   "execution_count": 53,
   "metadata": {},
   "outputs": [
    {
     "name": "stdout",
     "output_type": "stream",
     "text": [
      "[[-1  2]\n",
      " [ 3  4]]\n",
      "(2, 2)\n"
     ]
    }
   ],
   "source": [
    "arr_1 = np.array([-1,2,3,4]).reshape(2,-1)\n",
    "print(arr_1)\n",
    "print(arr_1.shape)"
   ]
  },
  {
   "cell_type": "code",
   "execution_count": 62,
   "metadata": {},
   "outputs": [
    {
     "name": "stdout",
     "output_type": "stream",
     "text": [
      "[[3 4]]\n",
      "[3 4]\n"
     ]
    }
   ],
   "source": [
    "print(np.max(arr_1, axis=0, keepdims=True))\n",
    "print(np.max(arr_1, axis=0, keepdims=False))"
   ]
  },
  {
   "cell_type": "code",
   "execution_count": 61,
   "metadata": {},
   "outputs": [
    {
     "name": "stdout",
     "output_type": "stream",
     "text": [
      "[[-1]\n",
      " [ 3]]\n",
      "[-1  3]\n"
     ]
    }
   ],
   "source": [
    "print(np.min(arr_1, axis=1, keepdims=True))\n",
    "print(np.min(arr_1, axis=1, keepdims=False))"
   ]
  },
  {
   "cell_type": "markdown",
   "metadata": {},
   "source": [
    "### sum of ndarray"
   ]
  },
  {
   "cell_type": "code",
   "execution_count": 63,
   "metadata": {},
   "outputs": [
    {
     "name": "stdout",
     "output_type": "stream",
     "text": [
      "[[-1  2]\n",
      " [ 3  4]]\n",
      "(2, 2)\n"
     ]
    }
   ],
   "source": [
    "arr_1 = np.array([-1,2,3,4]).reshape(2,-1)\n",
    "print(arr_1)\n",
    "print(arr_1.shape)"
   ]
  },
  {
   "cell_type": "code",
   "execution_count": 65,
   "metadata": {},
   "outputs": [
    {
     "name": "stdout",
     "output_type": "stream",
     "text": [
      "[[2 6]]\n",
      "[2 6]\n"
     ]
    }
   ],
   "source": [
    "print(np.sum(arr_1, axis=0,keepdims=True))\n",
    "print(np.sum(arr_1, axis=0,keepdims=False))"
   ]
  },
  {
   "cell_type": "code",
   "execution_count": 66,
   "metadata": {},
   "outputs": [
    {
     "name": "stdout",
     "output_type": "stream",
     "text": [
      "[[1]\n",
      " [7]]\n",
      "[1 7]\n"
     ]
    }
   ],
   "source": [
    "print(np.sum(arr_1, axis=1,keepdims=True))\n",
    "print(np.sum(arr_1, axis=1,keepdims=False))"
   ]
  },
  {
   "cell_type": "markdown",
   "metadata": {},
   "source": [
    "### Numpy repeat and title"
   ]
  },
  {
   "cell_type": "code",
   "execution_count": 70,
   "metadata": {},
   "outputs": [
    {
     "name": "stdout",
     "output_type": "stream",
     "text": [
      "[[-1  2]\n",
      " [ 3  4]]\n",
      "(2, 2)\n"
     ]
    }
   ],
   "source": [
    "arr = np.array([-1,2,3,4]).reshape(2,-1)\n",
    "print(arr)\n",
    "print(arr.shape)"
   ]
  },
  {
   "cell_type": "code",
   "execution_count": 78,
   "metadata": {},
   "outputs": [
    {
     "name": "stdout",
     "output_type": "stream",
     "text": [
      "[[-1 -1  2  2]\n",
      " [ 3  3  4  4]]\n",
      "(2, 4)\n"
     ]
    }
   ],
   "source": [
    "arr_1 = np.repeat(arr,2, axis=1)\n",
    "print(arr_1)\n",
    "print(arr_1.shape)"
   ]
  },
  {
   "cell_type": "code",
   "execution_count": 79,
   "metadata": {},
   "outputs": [
    {
     "name": "stdout",
     "output_type": "stream",
     "text": [
      "[[-1  2]\n",
      " [-1  2]\n",
      " [ 3  4]\n",
      " [ 3  4]]\n",
      "(4, 2)\n"
     ]
    }
   ],
   "source": [
    "arr_1 = np.repeat(arr,2, axis=0)\n",
    "print(arr_1)\n",
    "print(arr_1.shape)"
   ]
  },
  {
   "cell_type": "code",
   "execution_count": 80,
   "metadata": {},
   "outputs": [
    {
     "name": "stdout",
     "output_type": "stream",
     "text": [
      "[[-1  2 -1  2]\n",
      " [ 3  4  3  4]]\n",
      "(2, 4)\n"
     ]
    }
   ],
   "source": [
    "arr_1 = np.tile(arr,2)\n",
    "print(arr_1)\n",
    "print(arr_1.shape)"
   ]
  },
  {
   "cell_type": "markdown",
   "metadata": {},
   "source": [
    "### Boolen array"
   ]
  },
  {
   "cell_type": "code",
   "execution_count": 82,
   "metadata": {},
   "outputs": [
    {
     "name": "stdout",
     "output_type": "stream",
     "text": [
      "[[1 2 3]\n",
      " [4 5 6]]\n",
      "(2, 3)\n"
     ]
    }
   ],
   "source": [
    "arr = np.array([[1,2,3],\n",
    "                [4,5,6]])\n",
    "print(arr)\n",
    "print(arr.shape)"
   ]
  },
  {
   "cell_type": "code",
   "execution_count": 85,
   "metadata": {},
   "outputs": [
    {
     "name": "stdout",
     "output_type": "stream",
     "text": [
      "[[False  True  True]\n",
      " [ True  True  True]]\n",
      "[2 3 4 5 6]\n",
      "(5,)\n"
     ]
    }
   ],
   "source": [
    "print(arr >=2)\n",
    "print(arr[arr>=2])\n",
    "print((arr[arr>=2]).shape)"
   ]
  },
  {
   "cell_type": "markdown",
   "metadata": {},
   "source": [
    "### np.where condition"
   ]
  },
  {
   "cell_type": "code",
   "execution_count": 86,
   "metadata": {},
   "outputs": [
    {
     "name": "stdout",
     "output_type": "stream",
     "text": [
      "[[1 2 3]\n",
      " [4 5 6]]\n",
      "(2, 3)\n"
     ]
    }
   ],
   "source": [
    "arr = np.array([[1,2,3],\n",
    "                [4,5,6]])\n",
    "print(arr)\n",
    "print(arr.shape)"
   ]
  },
  {
   "cell_type": "code",
   "execution_count": 90,
   "metadata": {},
   "outputs": [
    {
     "name": "stdout",
     "output_type": "stream",
     "text": [
      "(array([0, 0, 1, 1, 1], dtype=int64), array([1, 2, 0, 1, 2], dtype=int64))\n",
      "(5,)\n"
     ]
    }
   ],
   "source": [
    "indicating = np.where(arr >=2)\n",
    "print(indicating)\n",
    "print(indicating[0].shape)"
   ]
  },
  {
   "cell_type": "code",
   "execution_count": 92,
   "metadata": {},
   "outputs": [
    {
     "name": "stdout",
     "output_type": "stream",
     "text": [
      "[2 3 4 5 6]\n"
     ]
    }
   ],
   "source": [
    "print(arr[indicating])"
   ]
  }
 ],
 "metadata": {
  "kernelspec": {
   "display_name": "aio",
   "language": "python",
   "name": "python3"
  },
  "language_info": {
   "codemirror_mode": {
    "name": "ipython",
    "version": 3
   },
   "file_extension": ".py",
   "mimetype": "text/x-python",
   "name": "python",
   "nbconvert_exporter": "python",
   "pygments_lexer": "ipython3",
   "version": "3.10.0"
  }
 },
 "nbformat": 4,
 "nbformat_minor": 2
}
