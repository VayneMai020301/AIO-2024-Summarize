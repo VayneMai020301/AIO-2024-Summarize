{
 "cells": [
  {
   "cell_type": "markdown",
   "metadata": {},
   "source": [
    "### Import Dependences\n"
   ]
  },
  {
   "cell_type": "code",
   "execution_count": 28,
   "metadata": {},
   "outputs": [],
   "source": [
    "import numpy as np\n",
    "import pandas as pd\n",
    "import matplotlib . pyplot as plt\n",
    "from matplotlib.widgets import Slider\n",
    "\n",
    "from sklearn . tree import DecisionTreeRegressor\n",
    "from sklearn . ensemble import RandomForestRegressor\n",
    "from sklearn . ensemble import AdaBoostClassifier\n",
    "from sklearn . ensemble import GradientBoostingRegressor\n",
    "\n",
    "from sklearn . preprocessing import OrdinalEncoder , StandardScaler\n",
    "from sklearn . model_selection import train_test_split\n",
    "from sklearn . metrics import mean_absolute_error , mean_squared_error, accuracy_score\n",
    "\n",
    "from sklearn.datasets import make_classification"
   ]
  },
  {
   "cell_type": "markdown",
   "metadata": {},
   "source": [
    "### AdaBoost Algorithm Building "
   ]
  },
  {
   "cell_type": "markdown",
   "metadata": {},
   "source": [
    "#### DecisionTree Stump"
   ]
  },
  {
   "cell_type": "code",
   "execution_count": 2,
   "metadata": {},
   "outputs": [],
   "source": [
    "class DecisionStump:\n",
    "    def __init__(self):\n",
    "        self.polarity = 1\n",
    "        self.feature_index = None\n",
    "        self.threshold = None\n",
    "\n",
    "    def fit(self, X, y, w):\n",
    "        n_samples, n_features = X.shape\n",
    "        min_error = float('inf')\n",
    "\n",
    "        \"\"\"\n",
    "            Loop through each feature to get the purpose finding threshold and separate\n",
    "        \"\"\"\n",
    "        for feature_i in range(n_features):\n",
    "            feature_values = X[:, feature_i]\n",
    "            thresholds = np.unique(feature_values)\n",
    "\n",
    "            for threshold in thresholds:\n",
    "                for polarity in [1, -1]:\n",
    "                    y_pred = np.ones(n_samples)\n",
    "                    if polarity == 1:\n",
    "                        y_pred[feature_values < threshold] = -1\n",
    "                    else:\n",
    "                        y_pred[feature_values > threshold] = -1\n",
    "\n",
    "                    # calculate on the sample weight\n",
    "                    error = np.sum(w * (y_pred != y))\n",
    "\n",
    "                    if error < min_error:\n",
    "                        self.polarity = polarity\n",
    "                        self.threshold = threshold\n",
    "                        self.feature_index = feature_i\n",
    "                        min_error = error\n",
    "\n",
    "    def predict(self, X):\n",
    "        n_samples = X.shape[0]\n",
    "        X_column = X[:, self.feature_index]\n",
    "        y_pred = np.ones(n_samples)\n",
    "        if self.polarity == 1:\n",
    "            y_pred[X_column < self.threshold] = -1\n",
    "        else:\n",
    "            y_pred[X_column > self.threshold] = -1\n",
    "        return y_pred"
   ]
  },
  {
   "cell_type": "markdown",
   "metadata": {},
   "source": [
    "#### AdaBoost Creational "
   ]
  },
  {
   "cell_type": "code",
   "execution_count": 25,
   "metadata": {},
   "outputs": [],
   "source": [
    "class AdaBoostClassifierCus:\n",
    "    \"\"\"\n",
    "        weight_initilization: initilization weight  = 1/n_samples\n",
    "        update_weights: update weights\n",
    "    \n",
    "    \"\"\"\n",
    "    def __init__(self, n_clf=5):\n",
    "        self.n_clf = n_clf\n",
    "\n",
    "    def weight_initilization(self, n_samples):\n",
    "        w = np.full(n_samples, (1 / n_samples))\n",
    "        return w\n",
    "    \n",
    "    def update_weights(self, w, clf_weight, y, pred):\n",
    "        w = w * np.exp(-clf_weight * y * pred)\n",
    "        w = w / np.sum(w)  \n",
    "        return w\n",
    "    \n",
    "    def calculate_error_weights(self, w,y, pred):\n",
    "        \"\"\"\n",
    "            1. Calculate error weak model\n",
    "            2. Calculate weights of weak model\n",
    "\n",
    "        \"\"\"\n",
    "        error = np.sum(w * (pred != y))\n",
    "        clf_weight = 0.5 * np.log((1 - error) / (error + 1e-10))\n",
    "        return clf_weight\n",
    "    \n",
    "    def fit(self, X, y):\n",
    "        n_samples, n_features = X.shape\n",
    "        \n",
    "        w = self.weight_initilization(n_samples)\n",
    "        \n",
    "        self.clfs = []\n",
    "        self.clf_weights = []\n",
    "\n",
    "        for _ in range(self.n_clf):\n",
    "            clf = DecisionStump()\n",
    "            clf.fit(X, y, w)\n",
    "            \n",
    "            pred = clf.predict(X)\n",
    "            \n",
    "            clf_weight= self.calculate_error_weights(w,y,pred)\n",
    "            w = self.update_weights(w,clf_weight, y,pred)\n",
    "\n",
    "            self.clfs.append(clf)\n",
    "            self.clf_weights.append(clf_weight)\n",
    "\n",
    "    def predict(self, X):\n",
    "        \"\"\"\n",
    "            1. Prediction of strong model based weak models\n",
    "            2. Arregate prediction from all of weak models\n",
    "        \"\"\"\n",
    "        \n",
    "        clf_preds = np.array([clf_weight * clf.predict(X) for clf, clf_weight in zip(self.clfs, self.clf_weights)])\n",
    "        y_pred = np.sign(np.sum(clf_preds, axis=0))\n",
    "        \n",
    "        return y_pred"
   ]
  },
  {
   "cell_type": "markdown",
   "metadata": {},
   "source": [
    "### Data "
   ]
  },
  {
   "cell_type": "markdown",
   "metadata": {},
   "source": [
    "#### Data Preparing"
   ]
  },
  {
   "cell_type": "code",
   "execution_count": 10,
   "metadata": {},
   "outputs": [
    {
     "data": {
      "image/png": "[encoded data removed]",
      "text/plain": [
       "<Figure size 800x600 with 1 Axes>"
      ]
     },
     "metadata": {},
     "output_type": "display_data"
    }
   ],
   "source": [
    "X, y = make_classification(n_samples=100, n_features=4, n_classes=2, n_clusters_per_class=2, random_state=42)\n",
    "\n",
    "# Convert label to -1 and 1\n",
    "y = np.where(y == 0, -1, 1)  \n",
    "\n",
    "plt.figure(figsize=(8, 6))\n",
    "plt.scatter(X[y == -1][:, 0], X[y == -1][:, 1], color='red', label='Class 0')\n",
    "plt.scatter(X[y == 1][:, 0], X[y == 1][:, 1], color='blue', label='Class 1')\n",
    "plt.title('2D Random Data for Binary Classification')\n",
    "plt.xlabel('Feature 1')\n",
    "plt.ylabel('Feature 2')\n",
    "plt.legend()\n",
    "plt.grid(True)\n",
    "plt.show()"
   ]
  },
  {
   "cell_type": "markdown",
   "metadata": {},
   "source": [
    "#### Data Visualization "
   ]
  },
  {
   "cell_type": "code",
   "execution_count": 11,
   "metadata": {},
   "outputs": [
    {
     "name": "stdout",
     "output_type": "stream",
     "text": [
      "(100, 4)\n",
      "1\n"
     ]
    }
   ],
   "source": [
    "print(X.shape)\n",
    "print(y[0])"
   ]
  },
  {
   "cell_type": "markdown",
   "metadata": {},
   "source": [
    "### Training, Inference and Evaluation"
   ]
  },
  {
   "cell_type": "markdown",
   "metadata": {},
   "source": [
    "#### Traing test split"
   ]
  },
  {
   "cell_type": "code",
   "execution_count": 19,
   "metadata": {},
   "outputs": [],
   "source": [
    "X_train, X_test, y_train, y_test = train_test_split(X, y, test_size=0.3, random_state=90)"
   ]
  },
  {
   "cell_type": "markdown",
   "metadata": {},
   "source": [
    "#### Inference on the customize class"
   ]
  },
  {
   "cell_type": "code",
   "execution_count": 29,
   "metadata": {},
   "outputs": [
    {
     "name": "stdout",
     "output_type": "stream",
     "text": [
      "[ 1.  1.  1. -1.  1. -1. -1.  1.  1.  1. -1. -1.  1.  1.  1.  1.  1.  1.\n",
      "  1. -1. -1.  1.  1.  1. -1. -1. -1. -1.  1.  1.]\n",
      "[ 1  1  1 -1 -1 -1 -1  1  1  1 -1 -1 -1  1 -1  1  1 -1  1 -1 -1 -1 -1  1\n",
      " -1 -1 -1 -1  1  1]\n",
      "Accuracy: 0.80\n"
     ]
    }
   ],
   "source": [
    "model = AdaBoostClassifierCus(n_clf=30)\n",
    "model.fit(X_train, y_train)\n",
    "\n",
    "y_pred = model.predict(X_test)\n",
    "print(y_pred)\n",
    "print(y_test)\n",
    "\n",
    "accuracy = accuracy_score(y_test, y_pred)\n",
    "print(f\"Accuracy: {accuracy:.2f}\")"
   ]
  },
  {
   "cell_type": "markdown",
   "metadata": {},
   "source": [
    "#### Inference on the standard library\n"
   ]
  },
  {
   "cell_type": "code",
   "execution_count": 32,
   "metadata": {},
   "outputs": [
    {
     "name": "stdout",
     "output_type": "stream",
     "text": [
      "Accuracy: 0.73\n"
     ]
    },
    {
     "name": "stderr",
     "output_type": "stream",
     "text": [
      "/opt/anaconda3/lib/python3.12/site-packages/sklearn/ensemble/_weight_boosting.py:519: FutureWarning: The SAMME.R algorithm (the default) is deprecated and will be removed in 1.6. Use the SAMME algorithm to circumvent this warning.\n",
      "  warnings.warn(\n"
     ]
    }
   ],
   "source": [
    "model = AdaBoostClassifier(n_estimators=50)\n",
    "model.fit(X_train, y_train)\n",
    "\n",
    "y_pred = model.predict(X_test)\n",
    "accuracy = accuracy_score(y_test, y_pred)\n",
    "print(f\"Accuracy: {accuracy:.2f}\")"
   ]
  },
  {
   "cell_type": "markdown",
   "metadata": {},
   "source": [
    "### cau 6 bai tap"
   ]
  },
  {
   "cell_type": "code",
   "execution_count": 62,
   "metadata": {},
   "outputs": [
    {
     "name": "stdout",
     "output_type": "stream",
     "text": [
      "mean: 20.0\n",
      "mse: 128.0\n"
     ]
    }
   ],
   "source": [
    "a = np.array([12,20,28])\n",
    "print(f'mean: {a.mean()}')\n",
    "mse = np.sum((a-a.mean())**2)\n",
    "print(f'mse: {mse}')"
   ]
  }
 ],
 "metadata": {
  "kernelspec": {
   "display_name": "base",
   "language": "python",
   "name": "python3"
  },
  "language_info": {
   "codemirror_mode": {
    "name": "ipython",
    "version": 3
   },
   "file_extension": ".py",
   "mimetype": "text/x-python",
   "name": "python",
   "nbconvert_exporter": "python",
   "pygments_lexer": "ipython3",
   "version": "3.12.4"
  }
 },
 "nbformat": 4,
 "nbformat_minor": 2
}
