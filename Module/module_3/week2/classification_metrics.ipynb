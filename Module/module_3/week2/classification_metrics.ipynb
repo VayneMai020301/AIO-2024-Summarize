{
 "cells": [
  {
   "cell_type": "markdown",
   "metadata": {},
   "source": [
    "### Balanced Data"
   ]
  },
  {
   "cell_type": "code",
   "execution_count": 13,
   "metadata": {},
   "outputs": [],
   "source": [
    "from sklearn.metrics import accuracy_score, precision_score, recall_score, f1_score, r2_score\n",
    "from sklearn.model_selection import train_test_split\n",
    "from sklearn.linear_model import LogisticRegression\n",
    "import numpy as np"
   ]
  },
  {
   "cell_type": "code",
   "execution_count": null,
   "metadata": {},
   "outputs": [],
   "source": []
  },
  {
   "cell_type": "code",
   "execution_count": 8,
   "metadata": {},
   "outputs": [
    {
     "name": "stdout",
     "output_type": "stream",
     "text": [
      "(200, 2)\n"
     ]
    }
   ],
   "source": []
  },
  {
   "cell_type": "markdown",
   "metadata": {},
   "source": [
    "### Imbalanced Data"
   ]
  },
  {
   "cell_type": "code",
   "execution_count": 33,
   "metadata": {},
   "outputs": [
    {
     "name": "stdout",
     "output_type": "stream",
     "text": [
      "[0 0 2 2 2 0 1 0 2 0 0 2 2 1 1 2 0 2 0 0 1 0 0 1 1 0 0 1 1 1 0 1 2 0 2 1 2\n",
      " 0 0 1 2 2 1 2 0 0 1 2 1 2 1 1 2 0 1 2 2 2 1 1]\n",
      "[0 2 0 2 0 2 2 2 1 0 0 1 0 2 1 2 2 2 0 1 0 2 2 1 2 2 2 2 0 2 0 1 1 0 0 2 2\n",
      " 2 0 2 2 2 1 2 0 2 2 2 2 2 1 2 2 2 2 2 2 1 2 2]\n"
     ]
    }
   ],
   "source": [
    "import numpy as np\n",
    "from sklearn.model_selection import train_test_split\n",
    "from sklearn.linear_model import LogisticRegression\n",
    "from sklearn.metrics import accuracy_score, precision_score, recall_score, f1_score, confusion_matrix\n",
    "\n",
    "# Tạo dữ liệu cân bằng cho 3 classes\n",
    "X = np.random.rand(300, 2)\n",
    "y = np.array([0] * 100 + [1] * 100 + [2] * 100)  # 100 mẫu mỗi class\n",
    "\n",
    "# Chia dữ liệu\n",
    "X_train, X_test, y_train, y_test = train_test_split(X, y, test_size=0.2, random_state=42, stratify=y)\n",
    "\n",
    "# Huấn luyện mô hình\n",
    "model = LogisticRegression(multi_class='multinomial', solver='lbfgs', max_iter=200)\n",
    "model.fit(X_train, y_train)\n",
    "y_pred = model.predict(X_test)\n",
    "print(y_test)\n",
    "print(y_pred)"
   ]
  },
  {
   "cell_type": "code",
   "execution_count": 35,
   "metadata": {},
   "outputs": [
    {
     "name": "stdout",
     "output_type": "stream",
     "text": [
      "Confusion Matrix:\n",
      " [[ 8  1 11]\n",
      " [ 2  5 13]\n",
      " [ 4  4 12]]\n",
      "Accuracy: 0.42\n",
      "Precision: 0.47\n",
      "Recall: 0.42\n",
      "F1 Score: 0.41\n",
      "Class 0:\n",
      "  True Positive (TP): 8\n",
      "  False Positive (FP): 6\n",
      "  True Negative (TN): 34\n",
      "  False Negative (FN): 12\n",
      "\n",
      "Class 1:\n",
      "  True Positive (TP): 5\n",
      "  False Positive (FP): 5\n",
      "  True Negative (TN): 35\n",
      "  False Negative (FN): 15\n",
      "\n",
      "Class 2:\n",
      "  True Positive (TP): 12\n",
      "  False Positive (FP): 24\n",
      "  True Negative (TN): 16\n",
      "  False Negative (FN): 8\n",
      "\n"
     ]
    }
   ],
   "source": [
    "# Tính toán các metrics\n",
    "accuracy = accuracy_score(y_test, y_pred)\n",
    "precision = precision_score(y_test, y_pred, average='weighted')\n",
    "recall = recall_score(y_test, y_pred, average='weighted')\n",
    "f1 = f1_score(y_test, y_pred, average='weighted')\n",
    "\n",
    "# In ra confusion matrix\n",
    "cm = confusion_matrix(y_test, y_pred)\n",
    "\n",
    "print(\"Confusion Matrix:\\n\", cm)\n",
    "print(f\"Accuracy: {accuracy:.2f}\")\n",
    "print(f\"Precision: {precision:.2f}\")\n",
    "print(f\"Recall: {recall:.2f}\")\n",
    "print(f\"F1 Score: {f1:.2f}\")\n",
    "\n",
    "# Tính toán TP, TN, FP, FN cho từng lớp\n",
    "for i in range(3):\n",
    "    TP = cm[i, i]\n",
    "    FP = np.sum(cm[:, i]) - TP\n",
    "    FN = np.sum(cm[i, :]) - TP\n",
    "    TN = np.sum(cm) - (TP + FP + FN)\n",
    "    \n",
    "    print(f\"Class {i}:\")\n",
    "    print(f\"  True Positive (TP): {TP}\")\n",
    "    print(f\"  False Positive (FP): {FP}\")\n",
    "    \n",
    "    print(f\"  True Negative (TN): {TN}\")\n",
    "    print(f\"  False Negative (FN): {FN}\")\n",
    "    print()"
   ]
  },
  {
   "cell_type": "markdown",
   "metadata": {},
   "source": [
    "### Imbalanced Data"
   ]
  },
  {
   "cell_type": "code",
   "execution_count": 17,
   "metadata": {},
   "outputs": [],
   "source": [
    "y_imbalanced = np.array([0] * 250 + [1] * 30 + [2] * 20)  # 250 mẫu class 0, 30 mẫu class 1, 20 mẫu class 2\n",
    "\n",
    "X_train, X_test, y_train, y_test = train_test_split(X, y_imbalanced, test_size=0.2, random_state=42, stratify=y_imbalanced)\n",
    "\n",
    "model.fit(X_train, y_train)\n",
    "y_pred = model.predict(X_test)"
   ]
  },
  {
   "cell_type": "code",
   "execution_count": 18,
   "metadata": {},
   "outputs": [
    {
     "name": "stdout",
     "output_type": "stream",
     "text": [
      "Confusion Matrix (Imbalanced Data):\n",
      " [[50  0  0]\n",
      " [ 6  0  0]\n",
      " [ 4  0  0]]\n",
      "Accuracy: 0.83\n",
      "Precision: 0.69\n",
      "Recall: 0.83\n",
      "F1 Score: 0.76\n",
      "Class 0:\n",
      "  True Positive (TP): 50\n",
      "  True Negative (TN): 0\n",
      "  False Positive (FP): 10\n",
      "  False Negative (FN): 0\n",
      "\n",
      "Class 1:\n",
      "  True Positive (TP): 0\n",
      "  True Negative (TN): 54\n",
      "  False Positive (FP): 0\n",
      "  False Negative (FN): 6\n",
      "\n",
      "Class 2:\n",
      "  True Positive (TP): 0\n",
      "  True Negative (TN): 56\n",
      "  False Positive (FP): 0\n",
      "  False Negative (FN): 4\n",
      "\n"
     ]
    },
    {
     "name": "stderr",
     "output_type": "stream",
     "text": [
      "/opt/anaconda3/lib/python3.12/site-packages/sklearn/metrics/_classification.py:1509: UndefinedMetricWarning: Precision is ill-defined and being set to 0.0 in labels with no predicted samples. Use `zero_division` parameter to control this behavior.\n",
      "  _warn_prf(average, modifier, f\"{metric.capitalize()} is\", len(result))\n"
     ]
    }
   ],
   "source": [
    "accuracy = accuracy_score(y_test, y_pred)\n",
    "precision = precision_score(y_test, y_pred, average='weighted')\n",
    "recall = recall_score(y_test, y_pred, average='weighted')\n",
    "f1 = f1_score(y_test, y_pred, average='weighted')\n",
    "\n",
    "cm = confusion_matrix(y_test, y_pred)\n",
    "\n",
    "print(\"Confusion Matrix (Imbalanced Data):\\n\", cm)\n",
    "print(f\"Accuracy: {accuracy:.2f}\")\n",
    "print(f\"Precision: {precision:.2f}\")\n",
    "print(f\"Recall: {recall:.2f}\")\n",
    "print(f\"F1 Score: {f1:.2f}\")\n",
    "\n",
    "for i in range(3):\n",
    "    TP = cm[i, i]\n",
    "    FP = np.sum(cm[:, i]) - TP\n",
    "    FN = np.sum(cm[i, :]) - TP\n",
    "    TN = np.sum(cm) - (TP + FP + FN)\n",
    "    \n",
    "    print(f\"Class {i}:\")\n",
    "    print(f\"  True Positive (TP): {TP}\")\n",
    "    print(f\"  True Negative (TN): {TN}\")\n",
    "    print(f\"  False Positive (FP): {FP}\")\n",
    "    print(f\"  False Negative (FN): {FN}\")\n",
    "    print()"
   ]
  }
 ],
 "metadata": {
  "kernelspec": {
   "display_name": "base",
   "language": "python",
   "name": "python3"
  },
  "language_info": {
   "codemirror_mode": {
    "name": "ipython",
    "version": 3
   },
   "file_extension": ".py",
   "mimetype": "text/x-python",
   "name": "python",
   "nbconvert_exporter": "python",
   "pygments_lexer": "ipython3",
   "version": "3.12.4"
  }
 },
 "nbformat": 4,
 "nbformat_minor": 2
}
